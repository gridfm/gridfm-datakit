{
 "cells": [
  {
   "cell_type": "code",
   "execution_count": null,
   "id": "d1d748e7",
   "metadata": {},
   "outputs": [],
   "source": [
    "from torch_geometric.datasets import OPFDataset\n",
    "import pandas as pd\n",
    "import numpy as np"
   ]
  },
  {
   "cell_type": "markdown",
   "id": "2b55c940",
   "metadata": {},
   "source": [
    "### OPF Data"
   ]
  },
  {
   "cell_type": "code",
   "execution_count": 2,
   "id": "de26dd71",
   "metadata": {},
   "outputs": [],
   "source": [
    "train_np = OPFDataset(\n",
    "    root=\"/Users/tamaragovindasamy/Desktop/gridfm-datakit/data/OPF/train/\",\n",
    "    split=\"train\",\n",
    "    case_name=\"pglib_opf_case118_ieee\",\n",
    "    num_groups=1,\n",
    "    topological_perturbations=False,\n",
    ")"
   ]
  },
  {
   "cell_type": "code",
   "execution_count": 6,
   "id": "607b6aa1",
   "metadata": {},
   "outputs": [],
   "source": [
    "bus_numbers = []\n",
    "bus_types = []\n",
    "va_arr = []\n",
    "vm_arr = []\n",
    "scenarios = []\n",
    "PV = []\n",
    "PQ = []\n",
    "REF = []\n",
    "pg_arr = []\n",
    "qg_arr = []\n",
    "pd_arr = []\n",
    "qd_arr = []\n",
    "\n",
    "count = 0\n",
    "for graph in train_np[:]:\n",
    "    n_buses = graph[\"bus\"].y.shape[0]\n",
    "    for bus in range(n_buses):\n",
    "        va_val = np.rad2deg(graph[\"bus\"].y[bus, 0].item())\n",
    "        vm_val = graph[\"bus\"].y[bus, 1].item()\n",
    "        bus_val = bus\n",
    "        bus_type_val = graph[\"bus\"].x[bus, 1].item()\n",
    "        bus_numbers.append(bus)\n",
    "        bus_types.append(bus_type_val)\n",
    "        va_arr.append(va_val)\n",
    "        vm_arr.append(vm_val)\n",
    "        scenarios.append(count)\n",
    "        # if bus is PV or PQ, append to the respective lists\n",
    "        if bus_type_val == 1.0:\n",
    "            PV.append(0)\n",
    "            REF.append(0)\n",
    "            PQ.append(1)\n",
    "        elif bus_type_val == 2.0:\n",
    "            PV.append(1)\n",
    "            REF.append(0)\n",
    "            PQ.append(0)\n",
    "        elif bus_type_val == 3.0:\n",
    "            PV.append(0)\n",
    "            REF.append(1)\n",
    "            PQ.append(0)\n",
    "        # generator\n",
    "        if bus in graph[\"bus\", \"generator_link\", \"generator\"][\"edge_index\"][0]:\n",
    "            # if bus is connected to a generator, append the generator values\n",
    "            pg_val = (\n",
    "                graph[\"generator\"]\n",
    "                .y[\n",
    "                    graph[\"generator\", \"generator_link\", \"bus\"][\"edge_index\"][1] == bus,\n",
    "                    0,\n",
    "                ]\n",
    "                .item()\n",
    "                * graph.x.item()\n",
    "            )  # baseMVA\n",
    "            qg_val = (\n",
    "                graph[\"generator\"]\n",
    "                .y[\n",
    "                    graph[\"generator\", \"generator_link\", \"bus\"][\"edge_index\"][1] == bus,\n",
    "                    1,\n",
    "                ]\n",
    "                .item()\n",
    "                * graph.x.item()\n",
    "            )  # baseMVA\n",
    "            pg_arr.append(pg_val)\n",
    "            qg_arr.append(qg_val)\n",
    "        else:\n",
    "            # if bus is not connected to a generator, append 0\n",
    "            pg_arr.append(0)\n",
    "            qg_arr.append(0)\n",
    "        # load\n",
    "        if bus in graph[\"bus\", \"load_link\", \"load\"].edge_index[0]:\n",
    "            # if bus is connected to a load, append the load values\n",
    "            pd_val = (\n",
    "                graph[\"load\"]\n",
    "                .x[graph[\"load\", \"load_link\", \"bus\"][\"edge_index\"][1] == bus, 0]\n",
    "                .item()\n",
    "                * graph.x.item()\n",
    "            )  # baseMVA\n",
    "            qd_val = (\n",
    "                graph[\"load\"]\n",
    "                .x[graph[\"load\", \"load_link\", \"bus\"][\"edge_index\"][1] == bus, 1]\n",
    "                .item()\n",
    "                * graph.x.item()\n",
    "            )  # baseMVA\n",
    "            pd_arr.append(pd_val)\n",
    "            qd_arr.append(qd_val)\n",
    "        else:\n",
    "            # if bus is not connected to a load, append 0\n",
    "            pd_arr.append(0)\n",
    "            qd_arr.append(0)\n",
    "    count += 1"
   ]
  },
  {
   "cell_type": "code",
   "execution_count": 7,
   "id": "af0e8bae",
   "metadata": {},
   "outputs": [],
   "source": [
    "data_for_df = {\n",
    "    \"scenario\": scenarios,\n",
    "    \"bus\": bus_numbers,\n",
    "    \"Pd\": pd_arr,\n",
    "    \"Qd\": qd_arr,\n",
    "    \"Pg\": pg_arr,\n",
    "    \"Qg\": qg_arr,\n",
    "    \"Vm\": vm_arr,\n",
    "    \"Va\": va_arr,\n",
    "    \"PQ\": PQ,\n",
    "    \"PV\": PV,\n",
    "    \"REF\": REF,\n",
    "    \"bus_type\": bus_types,\n",
    "}\n",
    "df = pd.DataFrame(data_for_df)  # create df\n",
    "df.to_csv(\n",
    "    \"/Users/tamaragovindasamy/Desktop/gridfm-datakit/data/OPF/train/dataset_release_1/pglib_opf_case118_ieee/processed_1/train_no_pert.csv\",\n",
    "    index=False,\n",
    ")  # save to file"
   ]
  },
  {
   "cell_type": "code",
   "execution_count": null,
   "id": "c6b036bd",
   "metadata": {},
   "outputs": [],
   "source": [
    "df"
   ]
  },
  {
   "cell_type": "markdown",
   "id": "192fc5c6",
   "metadata": {},
   "source": [
    "### PgLearn Data"
   ]
  },
  {
   "cell_type": "code",
   "execution_count": 1,
   "id": "ad94c3ff",
   "metadata": {},
   "outputs": [],
   "source": [
    "import h5py\n",
    "import pandas as pd\n",
    "import numpy as np\n",
    "import json"
   ]
  },
  {
   "cell_type": "code",
   "execution_count": 2,
   "id": "6ecfeeca",
   "metadata": {},
   "outputs": [],
   "source": [
    "# Input dataset for Pd, Qd: (N, L)\n",
    "input_data = \"/Users/tamaragovindasamy/Desktop/gridfm-datakit/data/pglearn/input.h5\"\n",
    "input_dataset = h5py.File(input_data, \"r\")\n",
    "\n",
    "# Primal dataset for Pg, Qg: (N, G), Va, Vm: (N, N)\n",
    "primal_data = \"/Users/tamaragovindasamy/Desktop/gridfm-datakit/data/pglearn/primal.h5\"\n",
    "primal_dataset = h5py.File(primal_data, \"r\")\n",
    "\n",
    "# Dual dataset for Slack_bus: (N, 1)\n",
    "dual_data = \"/Users/tamaragovindasamy/Desktop/gridfm-datakit/data/pglearn/dual.h5\"\n",
    "dual_dataset = h5py.File(dual_data, \"r\")\n",
    "\n",
    "# Metadata\n",
    "meta_data = \"/Users/tamaragovindasamy/Desktop/gridfm-datakit/data/pglearn/meta.h5\"\n",
    "meta_dataset = h5py.File(meta_data, \"r\")\n",
    "\n",
    "# Case file\n",
    "with open(\n",
    "    \"/Users/tamaragovindasamy/Desktop/gridfm-datakit/data/pglearn/case.json\", \"r\"\n",
    ") as f:\n",
    "    case_data = json.load(f)"
   ]
  },
  {
   "cell_type": "code",
   "execution_count": null,
   "id": "ac32567c",
   "metadata": {},
   "outputs": [],
   "source": [
    "meta_columns = meta_dataset.keys()\n",
    "for column in meta_columns:\n",
    "    print(f\"Column: {column}, Shape: {meta_dataset[column].shape}\")"
   ]
  },
  {
   "cell_type": "code",
   "execution_count": null,
   "id": "08286dfb",
   "metadata": {},
   "outputs": [],
   "source": [
    "input_columns = input_dataset.keys()\n",
    "for column in input_columns:\n",
    "    print(f\"Column: {column}, Shape: {input_dataset[column].shape}\")"
   ]
  },
  {
   "cell_type": "code",
   "execution_count": null,
   "id": "95b1f90a",
   "metadata": {},
   "outputs": [],
   "source": [
    "primal_columns = primal_dataset.keys()\n",
    "for column in primal_columns:\n",
    "    print(f\"Column: {column}, Shape: {primal_dataset[column].shape}\")"
   ]
  },
  {
   "cell_type": "code",
   "execution_count": null,
   "id": "7113d6c2",
   "metadata": {},
   "outputs": [],
   "source": [
    "dual_columns = dual_dataset.keys()\n",
    "for column in dual_columns:\n",
    "    print(f\"Column: {column}, Shape: {dual_dataset[column].shape}\")"
   ]
  },
  {
   "cell_type": "code",
   "execution_count": 4,
   "id": "b1abd605",
   "metadata": {},
   "outputs": [],
   "source": [
    "pg = np.array(primal_dataset[\"pg\"])\n",
    "qg = np.array(primal_dataset[\"qg\"])\n",
    "vm = np.array(primal_dataset[\"vm\"])\n",
    "va = np.array(primal_dataset[\"va\"])\n",
    "Pd = np.array(input_dataset[\"pd\"])\n",
    "qd = np.array(input_dataset[\"qd\"])"
   ]
  },
  {
   "cell_type": "code",
   "execution_count": null,
   "id": "4d2b00c1",
   "metadata": {},
   "outputs": [],
   "source": [
    "bus_numbers = []\n",
    "va_arr = []\n",
    "vm_arr = []\n",
    "scenarios = []\n",
    "pg_arr = []\n",
    "qg_arr = []\n",
    "pd_arr = []\n",
    "qd_arr = []\n",
    "PV = []\n",
    "PQ = []\n",
    "REF = []\n",
    "\n",
    "n_scenarios = primal_dataset[\"vm\"].shape[0]\n",
    "n_buses = primal_dataset[\"vm\"].shape[1]\n",
    "for scenario in range(n_scenarios):\n",
    "    for bus in range(n_buses):\n",
    "        va_val = np.rad2deg(va[scenario, bus])\n",
    "        vm_val = vm[scenario, bus]\n",
    "        bus_numbers.append(bus)\n",
    "        va_arr.append(va_val)\n",
    "        vm_arr.append(vm_val)\n",
    "        scenarios.append(scenario)\n",
    "        # generator\n",
    "        if not case_data[\"data\"][\"bus_gens\"][bus]:\n",
    "            pg_arr.append(0)\n",
    "            qg_arr.append(0)\n",
    "        else:\n",
    "            pg_val = (\n",
    "                pg[scenario, case_data[\"data\"][\"bus_gens\"][bus][0] - 1]\n",
    "                * case_data[\"data\"][\"base_mva\"]\n",
    "            )  # indices go up to 54\n",
    "            qg_val = (\n",
    "                qg[scenario, case_data[\"data\"][\"bus_gens\"][bus][0] - 1]\n",
    "                * case_data[\"data\"][\"base_mva\"]\n",
    "            )\n",
    "            pg_arr.append(pg_val)\n",
    "            qg_arr.append(qg_val)\n",
    "\n",
    "        # loads\n",
    "        if not case_data[\"data\"][\"bus_loads\"][bus]:\n",
    "            pd_arr.append(0)\n",
    "            qd_arr.append(0)\n",
    "        else:\n",
    "            pd_val = (\n",
    "                Pd[scenario, case_data[\"data\"][\"bus_loads\"][bus][0] - 1]\n",
    "                * case_data[\"data\"][\"base_mva\"]\n",
    "            )  # indices go up to 99\n",
    "            qd_val = (\n",
    "                qd[scenario, case_data[\"data\"][\"bus_loads\"][bus][0] - 1]\n",
    "                * case_data[\"data\"][\"base_mva\"]\n",
    "            )\n",
    "            pd_arr.append(pd_val)\n",
    "            qd_arr.append(qd_val)"
   ]
  },
  {
   "cell_type": "code",
   "execution_count": null,
   "id": "024e7c9b",
   "metadata": {},
   "outputs": [],
   "source": [
    "data_for_df = {\n",
    "    \"scenario\": scenarios,\n",
    "    \"bus\": bus_numbers,\n",
    "    \"Pd\": pd_arr,\n",
    "    \"Qd\": qd_arr,\n",
    "    \"Pg\": pg_arr,\n",
    "    \"Qg\": qg_arr,\n",
    "    \"Vm\": vm_arr,\n",
    "    \"Va\": va_arr,\n",
    "}\n",
    "df = pd.DataFrame(data_for_df)  # create df"
   ]
  },
  {
   "cell_type": "code",
   "execution_count": null,
   "id": "2e561f62",
   "metadata": {},
   "outputs": [],
   "source": [
    "df"
   ]
  },
  {
   "cell_type": "code",
   "execution_count": 8,
   "id": "3e3b7418",
   "metadata": {},
   "outputs": [],
   "source": [
    "df.to_csv(\n",
    "    \"/Users/tamaragovindasamy/Desktop/gridfm-datakit/data/pglearn/pglearn.csv\",\n",
    "    index=False,\n",
    ")"
   ]
  },
  {
   "cell_type": "code",
   "execution_count": null,
   "id": "4d5145be",
   "metadata": {},
   "outputs": [],
   "source": []
  },
  {
   "cell_type": "code",
   "execution_count": null,
   "id": "ca0bbb91",
   "metadata": {},
   "outputs": [],
   "source": []
  }
 ],
 "metadata": {
  "kernelspec": {
   "display_name": "venv",
   "language": "python",
   "name": "python3"
  },
  "language_info": {
   "codemirror_mode": {
    "name": "ipython",
    "version": 3
   },
   "file_extension": ".py",
   "mimetype": "text/x-python",
   "name": "python",
   "nbconvert_exporter": "python",
   "pygments_lexer": "ipython3",
   "version": "3.12.9"
  }
 },
 "nbformat": 4,
 "nbformat_minor": 5
}
