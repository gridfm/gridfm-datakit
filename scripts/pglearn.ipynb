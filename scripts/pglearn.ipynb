{
 "cells": [
  {
   "cell_type": "markdown",
   "id": "192fc5c6",
   "metadata": {},
   "source": [
    "### PgLearn Data"
   ]
  },
  {
   "cell_type": "code",
   "execution_count": 1,
   "id": "ad94c3ff",
   "metadata": {},
   "outputs": [],
   "source": [
    "import h5py\n",
    "import pandas as pd\n",
    "import numpy as np\n",
    "import json"
   ]
  },
  {
   "cell_type": "code",
   "execution_count": 24,
   "id": "0b885b6c",
   "metadata": {},
   "outputs": [],
   "source": [
    "data_dir = \"/Users/albanpuech/benchmark_data/PGLearn-Small-118_ieee-nminus1\""
   ]
  },
  {
   "cell_type": "code",
   "execution_count": 28,
   "id": "d45b8f44",
   "metadata": {},
   "outputs": [],
   "source": [
    "# Input dataset for Pd, Qd: (N, L)\n",
    "input_data = data_dir + \"/input.h5\"\n",
    "input_dataset = h5py.File(input_data, \"r\")\n",
    "\n",
    "# Primal dataset for Pg, Qg: (N, G), Va, Vm: (N, N)\n",
    "primal_data = data_dir + \"/primal.h5\"\n",
    "primal_dataset = h5py.File(primal_data, \"r\")\n",
    "\n",
    "# Case file\n",
    "with open(\n",
    "    data_dir + \"/case.json\", \"r\"\n",
    ") as f:\n",
    "    case_data = json.load(f)\n",
    "\n",
    "pg = np.array(primal_dataset[\"pg\"])\n",
    "qg = np.array(primal_dataset[\"qg\"])\n",
    "vm = np.array(primal_dataset[\"vm\"])\n",
    "va = np.array(primal_dataset[\"va\"])\n",
    "Pd = np.array(input_dataset[\"pd\"])\n",
    "qd = np.array(input_dataset[\"qd\"])\n",
    "\n",
    "n_scenarios = va.shape[0]\n",
    "n_buses = va.shape[1]\n",
    "\n",
    "n_gens = pg.shape[1]\n",
    "n_loads = qd.shape[1]\n",
    "\n",
    "\n",
    "buses_with_gens = [i for i in range(n_buses) if case_data['data']['bus_gens'][i]]\n",
    "buses_with_loads = [i for i in range(n_buses) if case_data['data']['bus_loads'][i]]\n",
    "\n",
    "assert len(buses_with_gens) == n_gens, \"Number of generators is not correct\"\n",
    "assert len(buses_with_loads) == n_loads, \"Number of loads is not correct\"\n",
    "\n",
    "assert max([len(i) for i in case_data['data']['bus_gens']]) == 1, \"There should be only one generator per bus\"\n",
    "assert max([len(i) for i in case_data['data']['bus_loads']]) == 1, \"There should be only one load per bus\"\n",
    "\n",
    "# assert gen_idx are consecutive\n",
    "assert (np.concatenate(case_data['data']['bus_gens']).astype(int)-1 == list(range(n_gens))).all(), \"gen_idx are not consecutive\"\n",
    "assert (np.concatenate(case_data['data']['bus_loads']).astype(int)-1 == list(range(n_loads))).all(), \"load_idx are not consecutive\"\n",
    "\n",
    "pg_all = np.zeros((n_scenarios, n_buses))\n",
    "qg_all = np.zeros((n_scenarios, n_buses))\n",
    "pd_all = np.zeros((n_scenarios, n_buses))\n",
    "qd_all = np.zeros((n_scenarios, n_buses))\n",
    "\n",
    "pd_all[:, buses_with_loads] = Pd\n",
    "qd_all[:, buses_with_loads] = qd\n",
    "\n",
    "pg_all[:, buses_with_gens] = pg\n",
    "qg_all[:, buses_with_gens] = qg\n",
    "\n",
    "\n",
    "df_pglearn = pd.DataFrame(\n",
    "    {\n",
    "                \"scenario\": np.repeat(np.arange(n_scenarios), n_buses),\n",
    "\n",
    "        \"bus\": np.tile(np.arange(n_buses), n_scenarios),\n",
    "        \"Pd\": pd_all.flatten()*100.0,\n",
    "        \"Qd\": qd_all.flatten()*100.0,\n",
    "        \"Pg\": pg_all.flatten()*100.0,\n",
    "        \"Qg\": qg_all.flatten()*100.0,\n",
    "        \"Vm\": vm.flatten(),\n",
    "        \"Va\": np.rad2deg(va.flatten()),\n",
    "    })\n",
    "\n",
    "\n",
    "\n"
   ]
  },
  {
   "cell_type": "code",
   "execution_count": 32,
   "id": "355a91d1",
   "metadata": {},
   "outputs": [],
   "source": [
    "# write df to csv\n",
    "df_pglearn.to_csv(\n",
    "    data_dir + \"/pglearn.csv\",\n",
    "    index=False,\n",
    ")\n",
    "\n"
   ]
  },
  {
   "cell_type": "code",
   "execution_count": 5,
   "id": "69481830",
   "metadata": {},
   "outputs": [],
   "source": [
    "df = pd.read_csv(\"/Users/albanpuech/benchmark_data/pglearn/pglearn.csv\")"
   ]
  },
  {
   "cell_type": "code",
   "execution_count": 22,
   "id": "2e561f62",
   "metadata": {},
   "outputs": [
    {
     "name": "stdout",
     "output_type": "stream",
     "text": [
      "scenario    399993.500000\n",
      "bus             58.500000\n",
      "Pd              35.951141\n",
      "Qd              12.186679\n",
      "Pg              37.134535\n",
      "Qg               7.015029\n",
      "Vm               1.033266\n",
      "Va             -10.508916\n",
      "dtype: float64\n",
      "scenario    399993.500000\n",
      "bus             58.500000\n",
      "Pd              35.951141\n",
      "Qd              12.186679\n",
      "Pg              37.134535\n",
      "Qg               7.015029\n",
      "Vm               1.033267\n",
      "Va             -10.508917\n",
      "dtype: float64\n"
     ]
    }
   ],
   "source": [
    "# compare df and df_pglearn\n",
    "print(df.mean())\n",
    "print(df_pglearn.mean())\n",
    "\n",
    "assert np.allclose(df.mean(), df_pglearn.mean()), \"df and df_pglearn are not the same\""
   ]
  }
 ],
 "metadata": {
  "kernelspec": {
   "display_name": "venv",
   "language": "python",
   "name": "python3"
  },
  "language_info": {
   "codemirror_mode": {
    "name": "ipython",
    "version": 3
   },
   "file_extension": ".py",
   "mimetype": "text/x-python",
   "name": "python",
   "nbconvert_exporter": "python",
   "pygments_lexer": "ipython3",
   "version": "3.12.11"
  }
 },
 "nbformat": 4,
 "nbformat_minor": 5
}
