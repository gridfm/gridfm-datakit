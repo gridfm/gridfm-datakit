{
    "cells": [
        {
            "cell_type": "code",
            "execution_count": 1,
            "metadata": {},
            "outputs": [
                {
                    "data": {
                        "application/vnd.jupyter.widget-view+json": {
                            "model_id": "9a352c98626a4c1b883abb249dfd89b3",
                            "version_major": 2,
                            "version_minor": 0
                        },
                        "text/plain": [
                            "VBox(children=(HTML(value=\"<h3 style='color: #2196F3; margin: 10px 0;'>📡 Network Configuration</h3>\"), HTML(va…"
                        ]
                    },
                    "metadata": {},
                    "output_type": "display_data"
                },
                {
                    "data": {
                        "application/vnd.jupyter.widget-view+json": {
                            "model_id": "376c2bd6b4a640f7b4940052c4e7f44c",
                            "version_major": 2,
                            "version_minor": 0
                        },
                        "text/plain": [
                            "VBox(children=(HTML(value=\"<h3 style='color: #4CAF50; margin: 10px 0;'>⚡ Load Configuration - Basic Parameters…"
                        ]
                    },
                    "metadata": {},
                    "output_type": "display_data"
                },
                {
                    "data": {
                        "application/vnd.jupyter.widget-view+json": {
                            "model_id": "899fbb6cf3fb4bb9a18ac7fed7a54fae",
                            "version_major": 2,
                            "version_minor": 0
                        },
                        "text/plain": [
                            "VBox(children=(HTML(value=\"<p style='margin: 5px 0; color: #666;'>Parameters for searching the aggregated load…"
                        ]
                    },
                    "metadata": {},
                    "output_type": "display_data"
                },
                {
                    "data": {
                        "application/vnd.jupyter.widget-view+json": {
                            "model_id": "e16d910eae3347da83588e5759d45aeb",
                            "version_major": 2,
                            "version_minor": 0
                        },
                        "text/plain": [
                            "VBox(children=(HTML(value=\"<h3 style='color: #9C27B0; margin: 10px 0;'>🔌 Topology Perturbation Configuration</…"
                        ]
                    },
                    "metadata": {},
                    "output_type": "display_data"
                },
                {
                    "data": {
                        "application/vnd.jupyter.widget-view+json": {
                            "model_id": "e9aeb52c46284d29bdf2c56af39745cf",
                            "version_major": 2,
                            "version_minor": 0
                        },
                        "text/plain": [
                            "VBox(children=(HTML(value=\"<h3 style='color: #795548; margin: 10px 0;'>⚙️ Execution Settings</h3>\"), HTML(valu…"
                        ]
                    },
                    "metadata": {},
                    "output_type": "display_data"
                },
                {
                    "data": {
                        "application/vnd.jupyter.widget-view+json": {
                            "model_id": "93d387c5cc904aeda3d00ebccc58a035",
                            "version_major": 2,
                            "version_minor": 0
                        },
                        "text/plain": [
                            "Text(value='user_config.yaml', description='Config Filename:', layout=Layout(width='400px'), placeholder='e.g.…"
                        ]
                    },
                    "metadata": {},
                    "output_type": "display_data"
                },
                {
                    "data": {
                        "application/vnd.jupyter.widget-view+json": {
                            "model_id": "bb60488b097f411f966e0b48c47e1088",
                            "version_major": 2,
                            "version_minor": 0
                        },
                        "text/plain": [
                            "Button(button_style='info', description='Create YAML Config', style=ButtonStyle(), tooltip='Save the current c…"
                        ]
                    },
                    "metadata": {},
                    "output_type": "display_data"
                },
                {
                    "data": {
                        "application/vnd.jupyter.widget-view+json": {
                            "model_id": "036aff9e54c845bcbf330de49fa1a69b",
                            "version_major": 2,
                            "version_minor": 0
                        },
                        "text/plain": [
                            "Button(button_style='success', description='Generate and Run Configuration', style=ButtonStyle(), tooltip='Cli…"
                        ]
                    },
                    "metadata": {},
                    "output_type": "display_data"
                },
                {
                    "name": "stdout",
                    "output_type": "stream",
                    "text": [
                        "Finding upper limit u .................\n",
                        "OPF did not converge for u=1.200. Using u=1.175 for upper limit\n",
                        "min, max of ref_curve: 0.7049999999999996, 1.1749999999999994\n",
                        "l, u: 0.7049999999999996, 1.1749999999999994\n",
                        "cutting the load profile (original length: 8760, requested length: 200)\n",
                        "Processing scenarios: 100%|##########| 200/200 [00:55<00:00,  3.62it/s]\n"
                    ]
                }
            ],
            "source": [
                "from GridDataGen.interactive import interactive_interface\n",
                "interactive_interface()\n"
            ]
        }
    ],
    "metadata": {
        "kernelspec": {
            "display_name": "venv",
            "language": "python",
            "name": "python3"
        },
        "language_info": {
            "codemirror_mode": {
                "name": "ipython",
                "version": 3
            },
            "file_extension": ".py",
            "mimetype": "text/x-python",
            "name": "python",
            "nbconvert_exporter": "python",
            "pygments_lexer": "ipython3",
            "version": "3.9.6"
        }
    },
    "nbformat": 4,
    "nbformat_minor": 2
}
