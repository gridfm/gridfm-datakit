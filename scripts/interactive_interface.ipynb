{
    "cells": [
        {
            "cell_type": "code",
            "execution_count": 1,
            "metadata": {},
            "outputs": [
                {
                    "data": {
                        "application/vnd.jupyter.widget-view+json": {
                            "model_id": "1c976de8256e414194457d6ed8e0abc3",
                            "version_major": 2,
                            "version_minor": 0
                        },
                        "text/plain": [
                            "VBox(children=(HTML(value=\"<h3 style='color: #2196F3; margin: 10px 0;'>📡 Network Configuration</h3>\"), HTML(va…"
                        ]
                    },
                    "metadata": {},
                    "output_type": "display_data"
                },
                {
                    "data": {
                        "application/vnd.jupyter.widget-view+json": {
                            "model_id": "53d928fdce854a1aa9f87fbdd01d5b5f",
                            "version_major": 2,
                            "version_minor": 0
                        },
                        "text/plain": [
                            "VBox(children=(HTML(value=\"<h3 style='color: #4CAF50; margin: 10px 0;'>⚡ Load Configuration - Basic Parameters…"
                        ]
                    },
                    "metadata": {},
                    "output_type": "display_data"
                },
                {
                    "data": {
                        "application/vnd.jupyter.widget-view+json": {
                            "model_id": "6a2321cdd56e41caa5288653a1713970",
                            "version_major": 2,
                            "version_minor": 0
                        },
                        "text/plain": [
                            "VBox(children=(HTML(value=\"<p style='margin: 5px 0; color: #666;'>Parameters for searching the aggregated load…"
                        ]
                    },
                    "metadata": {},
                    "output_type": "display_data"
                },
                {
                    "data": {
                        "application/vnd.jupyter.widget-view+json": {
                            "model_id": "86380e16e3bb4586a6653cacb049ac62",
                            "version_major": 2,
                            "version_minor": 0
                        },
                        "text/plain": [
                            "VBox(children=(HTML(value=\"<h3 style='color: #9C27B0; margin: 10px 0;'>🔌 Topology Perturbation Configuration</…"
                        ]
                    },
                    "metadata": {},
                    "output_type": "display_data"
                },
                {
                    "data": {
                        "application/vnd.jupyter.widget-view+json": {
                            "model_id": "ca655ab263cc44c18d12f43a6dd83e5b",
                            "version_major": 2,
                            "version_minor": 0
                        },
                        "text/plain": [
                            "VBox(children=(HTML(value=\"<h3 style='color: #795548; margin: 10px 0;'>⚙️ Execution Settings</h3>\"), HTML(valu…"
                        ]
                    },
                    "metadata": {},
                    "output_type": "display_data"
                },
                {
                    "data": {
                        "application/vnd.jupyter.widget-view+json": {
                            "model_id": "bd791b61f9444c8594277ae2d979105e",
                            "version_major": 2,
                            "version_minor": 0
                        },
                        "text/plain": [
                            "Text(value='user_config.yaml', description='Config Filename:', layout=Layout(width='400px'), placeholder='e.g.…"
                        ]
                    },
                    "metadata": {},
                    "output_type": "display_data"
                },
                {
                    "data": {
                        "application/vnd.jupyter.widget-view+json": {
                            "model_id": "ec3c841158f14372ba52dc6f95dcb929",
                            "version_major": 2,
                            "version_minor": 0
                        },
                        "text/plain": [
                            "Button(button_style='info', description='Create YAML Config', style=ButtonStyle(), tooltip='Save the current c…"
                        ]
                    },
                    "metadata": {},
                    "output_type": "display_data"
                },
                {
                    "data": {
                        "application/vnd.jupyter.widget-view+json": {
                            "model_id": "3c9c38bce2124236812dcb623ba827ca",
                            "version_major": 2,
                            "version_minor": 0
                        },
                        "text/plain": [
                            "Button(button_style='success', description='Generate and Run Configuration', style=ButtonStyle(), tooltip='Cli…"
                        ]
                    },
                    "metadata": {},
                    "output_type": "display_data"
                }
            ],
            "source": [
                "from gridfm_datakit.interactive import interactive_interface\n",
                "\n",
                "interactive_interface()"
            ]
        }
    ],
    "metadata": {
        "kernelspec": {
            "display_name": "venv",
            "language": "python",
            "name": "python3"
        },
        "language_info": {
            "codemirror_mode": {
                "name": "ipython",
                "version": 3
            },
            "file_extension": ".py",
            "mimetype": "text/x-python",
            "name": "python",
            "nbconvert_exporter": "python",
            "pygments_lexer": "ipython3",
            "version": "3.12.10"
        }
    },
    "nbformat": 4,
    "nbformat_minor": 2
}
