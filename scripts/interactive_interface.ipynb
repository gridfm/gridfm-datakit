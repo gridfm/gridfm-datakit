{
    "cells": [
        {
            "cell_type": "code",
            "execution_count": 1,
            "metadata": {},
            "outputs": [
                {
                    "data": {
                        "application/vnd.jupyter.widget-view+json": {
                            "model_id": "07841e5587714dfd9fb2719baee236a2",
                            "version_major": 2,
                            "version_minor": 0
                        },
                        "text/plain": [
                            "VBox(children=(HTML(value=\"<h3 style='color: #2196F3; margin: 10px 0;'>📡 Network Configuration</h3>\"), HTML(va…"
                        ]
                    },
                    "metadata": {},
                    "output_type": "display_data"
                },
                {
                    "data": {
                        "application/vnd.jupyter.widget-view+json": {
                            "model_id": "426cd444f5fa43a682012796a52bae74",
                            "version_major": 2,
                            "version_minor": 0
                        },
                        "text/plain": [
                            "VBox(children=(HTML(value=\"<h3 style='color: #4CAF50; margin: 10px 0;'>⚡ Load Configuration - Basic Parameters…"
                        ]
                    },
                    "metadata": {},
                    "output_type": "display_data"
                },
                {
                    "data": {
                        "application/vnd.jupyter.widget-view+json": {
                            "model_id": "38301fe954c94967a5da4a282d48a4b8",
                            "version_major": 2,
                            "version_minor": 0
                        },
                        "text/plain": [
                            "VBox(children=(HTML(value=\"<p style='margin: 5px 0; color: #666;'>Parameters for searching the aggregated load…"
                        ]
                    },
                    "metadata": {},
                    "output_type": "display_data"
                },
                {
                    "data": {
                        "application/vnd.jupyter.widget-view+json": {
                            "model_id": "49625b12c6a24cf9a4df033f79f1fd38",
                            "version_major": 2,
                            "version_minor": 0
                        },
                        "text/plain": [
                            "VBox(children=(HTML(value=\"<h3 style='color: #9C27B0; margin: 10px 0;'>🔌 Topology Perturbation Configuration</…"
                        ]
                    },
                    "metadata": {},
                    "output_type": "display_data"
                },
                {
                    "data": {
                        "application/vnd.jupyter.widget-view+json": {
                            "model_id": "1605c2dd202444b9a17bb3b5a466d0a3",
                            "version_major": 2,
                            "version_minor": 0
                        },
                        "text/plain": [
                            "VBox(children=(HTML(value=\"<h3 style='color: #795548; margin: 10px 0;'>⚙️ Execution Settings</h3>\"), HTML(valu…"
                        ]
                    },
                    "metadata": {},
                    "output_type": "display_data"
                },
                {
                    "data": {
                        "application/vnd.jupyter.widget-view+json": {
                            "model_id": "36e2f46feb4d48cb993444576519f2b7",
                            "version_major": 2,
                            "version_minor": 0
                        },
                        "text/plain": [
                            "Text(value='user_config.yaml', description='Config Filename:', layout=Layout(width='400px'), placeholder='e.g.…"
                        ]
                    },
                    "metadata": {},
                    "output_type": "display_data"
                },
                {
                    "data": {
                        "application/vnd.jupyter.widget-view+json": {
                            "model_id": "1372c233356441c1a0801dd81d0b0f36",
                            "version_major": 2,
                            "version_minor": 0
                        },
                        "text/plain": [
                            "Button(button_style='info', description='Create YAML Config', style=ButtonStyle(), tooltip='Save the current c…"
                        ]
                    },
                    "metadata": {},
                    "output_type": "display_data"
                },
                {
                    "data": {
                        "application/vnd.jupyter.widget-view+json": {
                            "model_id": "b6077692b8dd496a95222bfbe832810a",
                            "version_major": 2,
                            "version_minor": 0
                        },
                        "text/plain": [
                            "Button(button_style='success', description='Generate and Run Configuration', style=ButtonStyle(), tooltip='Cli…"
                        ]
                    },
                    "metadata": {},
                    "output_type": "display_data"
                }
            ],
            "source": [
                "from gridfm_datakit.interactive import interactive_interface\n",
                "\n",
                "interactive_interface()"
            ]
        }
    ],
    "metadata": {
        "kernelspec": {
            "display_name": "venv",
            "language": "python",
            "name": "python3"
        },
        "language_info": {
            "codemirror_mode": {
                "name": "ipython",
                "version": 3
            },
            "file_extension": ".py",
            "mimetype": "text/x-python",
            "name": "python",
            "nbconvert_exporter": "python",
            "pygments_lexer": "ipython3",
            "version": "3.12.10"
        }
    },
    "nbformat": 4,
    "nbformat_minor": 2
}
