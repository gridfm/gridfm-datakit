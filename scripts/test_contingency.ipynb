{
 "cells": [
  {
   "cell_type": "code",
   "execution_count": 1,
   "metadata": {},
   "outputs": [],
   "source": [
    "import numpy as np\n",
    "import pandas as pd\n",
    "from matplotlib import pyplot as plt\n",
    "\n",
    "import pandapower as pp\n",
    "import pandapower.networks\n",
    "import pandapower.contingency\n",
    "import pandapower.control\n",
    "import pandapower.timeseries\n",
    "import pandapower.plotting"
   ]
  },
  {
   "cell_type": "code",
   "execution_count": 3,
   "metadata": {},
   "outputs": [],
   "source": [
    "net = pp.networks.case24_ieee_rts()\n"
   ]
  },
  {
   "cell_type": "code",
   "execution_count": 4,
   "metadata": {},
   "outputs": [],
   "source": [
    "nminus1_cases = {\"line\": {\"index\": net.line.index.values}}\n",
    "res = pp.contingency.run_contingency(net, nminus1_cases)"
   ]
  },
  {
   "cell_type": "code",
   "execution_count": 5,
   "metadata": {},
   "outputs": [
    {
     "data": {
      "text/plain": [
       "{'bus': {'index': array([ 0,  1,  2,  3,  4,  5,  6,  7,  8,  9, 10, 11, 12, 13, 14, 15, 16,\n",
       "         17, 18, 19, 20, 21, 22, 23]),\n",
       "  'max_vm_pu': array([1.035     , 1.035     , 0.95219846, 0.98946182, 1.00918689,\n",
       "         0.99738437, 1.025     , 0.98184232, 0.96643785, 1.00941908,\n",
       "         1.00812162, 1.01396207, 1.02      , 0.98      , 1.014     ,\n",
       "         1.017     , 1.05100584, 1.05      , 1.0300816 , 1.04053414,\n",
       "         1.05      , 1.05      , 1.05      , 0.98651372]),\n",
       "  'min_vm_pu': array([1.035     , 1.035     , 0.89926209, 0.90188551, 0.95852809,\n",
       "         0.67328431, 1.025     , 0.87467052, 0.93798466, 0.96649445,\n",
       "         0.9826608 , 0.99588422, 1.02      , 0.98      , 1.014     ,\n",
       "         1.017     , 1.02182372, 1.05      , 1.01752219, 1.03021707,\n",
       "         1.05      , 1.05      , 1.05      , 0.92623995]),\n",
       "  'vm_pu': array([1.035     , 1.035     , 0.95167595, 0.9762186 , 1.00693625,\n",
       "         0.9937754 , 1.025     , 0.97898471, 0.96279794, 1.0049672 ,\n",
       "         0.99592624, 1.01037367, 1.02      , 0.98      , 1.014     ,\n",
       "         1.017     , 1.038549  , 1.05      , 1.02324761, 1.03849142,\n",
       "         1.05      , 1.05      , 1.05      , 0.98558916])},\n",
       " 'line': {'index': array([ 0,  1,  2,  3,  4,  5,  6,  7,  8,  9, 10, 11, 12, 13, 14, 15, 16,\n",
       "         17, 18, 19, 20, 21, 22, 23, 24, 25, 26, 27, 28, 29, 30, 31, 32]),\n",
       "  'causes_overloading': array([False, False, False, False,  True, False, False, False,  True,\n",
       "         False, False, False, False, False, False, False, False, False,\n",
       "         False, False, False, False, False, False, False, False, False,\n",
       "         False, False, False, False, False, False]),\n",
       "  'cause_element': array(['line', 'line', 'line', 'line', 'line', 'line', 'line', 'line',\n",
       "         'line', 'line', 'line', 'line', 'line', 'line', 'line', 'line',\n",
       "         'line', 'line', 'line', 'line', 'line', 'line', 'line', 'line',\n",
       "         'line', 'line', 'line', 'line', 'line', 'line', 'line', 'line',\n",
       "         'line'], dtype=object),\n",
       "  'cause_index': array([ 8, 21,  4,  6,  8, 21,  3,  8,  4,  8,  9,  9, 17, 21, 15, 16, 17,\n",
       "         21, 22, 22, 22, 17, 18, 17, 25, 32, 25, 25, 17, 17, 31, 30, 25]),\n",
       "  'max_loading_percent': array([ 55.73752764,  47.78555248,  48.20876562,  43.60521489,\n",
       "         131.13576465,  74.13124944,  47.83943734,  45.80791256,\n",
       "         107.80436785,  74.32372099,  59.01690726,  56.56459389,\n",
       "          57.6067426 ,  58.25735299,  39.63296452,  68.90192451,\n",
       "          73.13131466,  97.42465749,  82.5046123 ,  73.47272598,\n",
       "          73.47272598,  65.53294409,  81.54511546,  76.80737622,\n",
       "          55.80883046,  57.16075995,  21.15326505,  21.15326505,\n",
       "          22.85874136,  22.85874136,  38.06790965,  38.06790965,\n",
       "          57.24771866]),\n",
       "  'min_loading_percent': array([14.01508094, 23.64688014, 22.45130217, 29.27980577, 17.73024691,\n",
       "          9.33236365, 16.35398006,  3.12757393, 78.61902747, 69.09633176,\n",
       "         21.07627695, 10.28410085, 12.31771682, 35.03089524, 10.25892691,\n",
       "         35.13932997, 32.33659211, 41.78353564,  6.70213634, 34.76105006,\n",
       "         34.76105006, 40.45548402, 37.03967337,  6.11177561, 18.31722016,\n",
       "         18.95303982,  1.22720959,  1.22720959,  8.01989916,  8.01989916,\n",
       "         12.21471363, 12.21471363, 20.50194603]),\n",
       "  'loading_percent': array([16.42641178, 25.60198046, 34.4751885 , 31.09020597, 27.43839202,\n",
       "         15.9309012 , 24.94128646,  8.42653547, 87.22315644, 70.11891653,\n",
       "         24.40317555, 14.89365187, 19.45851188, 37.44513287, 12.4988217 ,\n",
       "         45.33449742, 44.10452933, 75.33441392, 23.33845872, 43.1602433 ,\n",
       "         43.1602433 , 42.96678141, 63.86818381, 24.3483263 , 37.78591458,\n",
       "         27.02694188, 11.69788235, 11.69788235, 10.0114525 , 10.0114525 ,\n",
       "         20.52064849, 20.52064849, 30.41985793])},\n",
       " 'trafo': {'index': array([0, 1, 2, 3, 4]),\n",
       "  'causes_overloading': array([False, False, False, False, False]),\n",
       "  'cause_element': array(['line', 'line', 'line', 'line', 'line'], dtype=object),\n",
       "  'cause_index': array([17, 21, 21, 21, 17]),\n",
       "  'max_loading_percent': array([84.37366552, 48.7020207 , 49.0617395 , 51.66643069, 55.83904157]),\n",
       "  'min_loading_percent': array([3.86577043e-13, 6.20350721e+00, 1.95335827e+01, 2.05210238e+01,\n",
       "         3.21617627e+01]),\n",
       "  'loading_percent': array([55.31973106, 27.44609848, 31.30546254, 39.94854984, 42.82986594])}}"
      ]
     },
     "execution_count": 5,
     "metadata": {},
     "output_type": "execute_result"
    }
   ],
   "source": [
    "res"
   ]
  }
 ],
 "metadata": {
  "kernelspec": {
   "display_name": "venv",
   "language": "python",
   "name": "python3"
  },
  "language_info": {
   "codemirror_mode": {
    "name": "ipython",
    "version": 3
   },
   "file_extension": ".py",
   "mimetype": "text/x-python",
   "name": "python",
   "nbconvert_exporter": "python",
   "pygments_lexer": "ipython3",
   "version": "3.9.6"
  }
 },
 "nbformat": 4,
 "nbformat_minor": 2
}
