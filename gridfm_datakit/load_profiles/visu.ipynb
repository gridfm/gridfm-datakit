{
 "cells": [
  {
   "cell_type": "code",
   "execution_count": 43,
   "id": "205db175",
   "metadata": {},
   "outputs": [
    {
     "name": "stdout",
     "output_type": "stream",
     "text": [
      "ercot_load_act_hr_2024_north_central {'std': 0.20078259982592506, 'max': 1.0}\n",
      "ercot_load_act_hr_2024_south_central {'std': 0.1628553043673315, 'max': 1.0}\n",
      "default {'std': 0.16767010676757474, 'max': 1.0}\n",
      "ercot_load_act_hr_2024_north {'std': 0.13252976407623196, 'max': 1.0}\n",
      "ercot_load_act_hr_2024_southern {'std': 0.11365317742948576, 'max': 1.0}\n",
      "ercot_load_act_hr_2024_far_west {'std': 0.0580248126644195, 'max': 1.0}\n",
      "ercot_load_act_hr_2024_east {'std': 0.1522949073005577, 'max': 1.0}\n",
      "ercot_load_act_hr_2024_west {'std': 0.16963164355469085, 'max': 1.0}\n",
      "ercot_load_act_hr_2024_coast {'std': 0.1201082948901996, 'max': 1.0}\n",
      "ercot_load_act_hr_2024_total {'std': 0.14660797502391246, 'max': 1.0}\n"
     ]
    }
   ],
   "source": [
    "import matplotlib.pyplot as plt\n",
    "import pandas as pd\n",
    "import numpy as np\n",
    "#plot all of csv file in the folder\n",
    "\n",
    "from pathlib import Path\n",
    "\n",
    "# Get all CSV files in the current directory\n",
    "csv_files = list(Path.cwd().glob('*.csv'))\n",
    "\n",
    "dfs = {file.stem:pd.read_csv(file) for file in csv_files}\n",
    "\n",
    "# normalize each df between 0 and 1\n",
    "for file in dfs.keys():\n",
    "    dfs[file] = (dfs[file] - dfs[file].min()) / (dfs[file].max() - dfs[file].min())\n",
    "\n",
    "# create dict with std and max of each df\n",
    "std_max_dfs = {file:{\"std\":dfs[file].std().values[0], \"max\":dfs[file].max().values[0]} for file in dfs.keys()}\n",
    "\n",
    "for file in std_max_dfs.keys():\n",
    "    print(file, std_max_dfs[file])\n",
    "\n",
    "\n",
    "\n",
    "\n",
    "\n",
    "\n",
    "\n",
    "\n",
    "\n",
    "\n",
    "\n",
    "\n",
    "\n",
    "\n",
    "\n",
    "\n",
    "\n",
    "\n",
    "\n",
    "\n",
    "\n",
    "\n",
    "\n",
    "\n",
    "\n",
    "\n",
    "\n",
    "\n",
    "\n",
    "\n",
    "\n",
    "\n",
    "\n",
    "\n",
    "\n"
   ]
  }
 ],
 "metadata": {
  "kernelspec": {
   "display_name": "venv",
   "language": "python",
   "name": "python3"
  },
  "language_info": {
   "codemirror_mode": {
    "name": "ipython",
    "version": 3
   },
   "file_extension": ".py",
   "mimetype": "text/x-python",
   "name": "python",
   "nbconvert_exporter": "python",
   "pygments_lexer": "ipython3",
   "version": "3.12.11"
  }
 },
 "nbformat": 4,
 "nbformat_minor": 5
}
