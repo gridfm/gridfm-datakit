{
 "cells": [
  {
   "cell_type": "code",
   "execution_count": 175,
   "metadata": {},
   "outputs": [],
   "source": [
    "import numpy as np\n",
    "import os\n",
    "import argparse\n",
    "from GridDataGen.utils.io import *\n",
    "from GridDataGen.utils.process_network import *\n",
    "from GridDataGen.utils.config import *\n",
    "from GridDataGen.utils.stats import *\n",
    "from GridDataGen.utils.param_handler import *\n",
    "from GridDataGen.utils.load import *\n",
    "from pandapower.auxiliary import pandapowerNet\n",
    "import gc\n",
    "from datetime import datetime\n",
    "from tqdm import tqdm\n",
    "from GridDataGen.utils.topology_perturbation import initialize_generator\n",
    "import psutil\n",
    "import shutil\n",
    "import yaml\n",
    "from GridDataGen.utils.process_network import process_scenario_contingency\n",
    "from tqdm import tqdm\n",
    "import matplotlib.pyplot as plt\n"
   ]
  },
  {
   "cell_type": "markdown",
   "metadata": {},
   "source": [
    "# Functions to compute branch current"
   ]
  },
  {
   "cell_type": "code",
   "execution_count": 176,
   "metadata": {},
   "outputs": [],
   "source": [
    "def compute_branch_currents_kA(Yf, Yt, V, Vf_base_kV, Vt_base_kV, sn_mva):\n",
    "\n",
    "    \n",
    "    If_pu = Yf @ V  # From-end currents in per-unit (I_f = Y_f V)\n",
    "    If_kA = np.abs(If_pu) * sn_mva / (np.sqrt(3) * Vf_base_kV)  # Conversion to kA\n",
    "\n",
    "    # Construct to-end admittance matrix Yt:\n",
    "    # Yt[b, :] = y_tf_b * e_f + y_tt_b * e_t\n",
    "    It_pu = Yt @ V  # To-end currents in per-unit (I_t = Y_t V)\n",
    "    It_kA = np.abs(It_pu) * sn_mva / (np.sqrt(3) * Vt_base_kV)  # Conversion to kA\n",
    "\n",
    "\n",
    "    return If_kA, It_kA\n",
    "\n",
    "\n",
    "def compute_loading(If_kA, It_kA, Vf_base_kV, Vt_base_kV, rate_a):\n",
    "    \"\"\"\n",
    "    Compute per-branch loading using current magnitudes and branch ratings.\n",
    "\n",
    "    Parameters:\n",
    "    - edge_index: np.ndarray of shape (n_edges, 2), each row is [from_bus, to_bus]\n",
    "    - If_kA: np.ndarray of from-side current magnitudes in kA\n",
    "    - It_kA: np.ndarray of to-side current magnitudes in kA\n",
    "    - base_kv: np.ndarray of shape (n_buses,), base voltage in kV per bus\n",
    "    - edge_attr: np.ndarray of shape (n_edges, >=5), edge features, column 4 = RATE_A\n",
    "\n",
    "    Returns:\n",
    "    - loading: np.ndarray of shape (n_edges,), max of from and to side loading\n",
    "    \"\"\"\n",
    "\n",
    "    limitf = rate_a / (Vf_base_kV * np.sqrt(3))\n",
    "    limitt = rate_a / (Vt_base_kV * np.sqrt(3))\n",
    "\n",
    "    loadingf = If_kA / limitf\n",
    "    loadingt = It_kA / limitt\n",
    "\n",
    "    return np.maximum(loadingf, loadingt)"
   ]
  },
  {
   "cell_type": "markdown",
   "metadata": {},
   "source": [
    "# Load data"
   ]
  },
  {
   "cell_type": "code",
   "execution_count": 177,
   "metadata": {},
   "outputs": [],
   "source": [
    "# pf_node = pd.read_csv(\"../../data_contingency/case300_ieee/merged/GridFM_v0.1.2_case300_ieee_output_pf_node.csv\")\n",
    "pf_node= pd.read_csv(\"../../data_contingency/case300_ieee/merged/FT_Contingency_GridFM_v0.1.2_case300_ieee_output_pf_node.csv\")\n",
    "branch_idx_removed = pd.read_csv(\"../../data_contingency/case300_ieee/raw/branch_idx_removed.csv\")\n",
    "edge_params = pd.read_csv(\"../../data_contingency/case300_ieee/raw/edge_params.csv\")\n",
    "bus_params = pd.read_csv(\"../../data_contingency/case300_ieee/raw/bus_params.csv\")"
   ]
  },
  {
   "cell_type": "markdown",
   "metadata": {},
   "source": [
    "# Sanity check -> check the RMSE on VA and VM is the same as the one Celia shared on slack"
   ]
  },
  {
   "cell_type": "code",
   "execution_count": null,
   "metadata": {},
   "outputs": [],
   "source": [
    "# compute rmse on va_pred_corrected and va\n",
    "rmse = np.sqrt(np.mean((pf_node[\"VA_pred\"] - pf_node[\"Va\"])**2))\n",
    "print(f\"RMSE: {rmse}\")\n",
    "\n",
    "# compute rmse on vm_pred_corrected and vm\n",
    "rmse = np.sqrt(np.mean((pf_node[\"VM_pred\"] - pf_node[\"Vm\"])**2))\n",
    "print(f\"RMSE: {rmse}\")\n",
    "\n",
    "\n",
    "\n",
    "\n"
   ]
  },
  {
   "cell_type": "markdown",
   "metadata": {},
   "source": [
    "# Create Admittance matrix"
   ]
  },
  {
   "cell_type": "code",
   "execution_count": 178,
   "metadata": {},
   "outputs": [],
   "source": [
    "base_kv = bus_params[\"baseKV\"].values\n",
    "sn_mva = 100\n",
    "\n",
    "# Extract from-bus and to-bus indices for each branch\n",
    "\n",
    "f = edge_params[\"from_bus\"].values.astype(np.int32)\n",
    "t = edge_params[\"to_bus\"].values.astype(np.int32)\n",
    "\n",
    "# Extract branch admittance coefficients\n",
    "Yff = edge_params[\"Yff_r\"].values + 1j * edge_params[\"Yff_i\"].values\n",
    "Yft = edge_params[\"Yft_r\"].values + 1j * edge_params[\"Yft_i\"].values\n",
    "Ytf = edge_params[\"Ytf_r\"].values + 1j * edge_params[\"Ytf_i\"].values\n",
    "Ytt = edge_params[\"Ytt_r\"].values + 1j * edge_params[\"Ytt_i\"].values\n",
    "\n",
    "# Get base voltages for the from and to buses (for kA conversion)\n",
    "Vf_base_kV = base_kv[f]\n",
    "Vt_base_kV = base_kv[t]\n",
    "\n",
    "nl = edge_params.shape[0]\n",
    "nb = bus_params.shape[0]\n",
    "\n",
    "# i = [0, 1, ..., nl-1, 0, 1, ..., nl-1], used for constructing Yf and Yt\n",
    "i = np.hstack([np.arange(nl), np.arange(nl)])\n",
    "\n",
    "# Construct from-end admittance matrix Yf using the linear combination:\n",
    "# Yf[b, :] = y_ff_b * e_f + y_ft_b * e_t\n",
    "Yf = csr_matrix((np.hstack([Yff, Yft]), (i, np.hstack([f, t]))), shape=(nl, nb))\n",
    "Yt = csr_matrix((np.hstack([Ytf, Ytt]), (i, np.hstack([f, t]))), shape=(nl, nb))\n",
    "\n",
    "rate_a = edge_params[\"rate_a\"].values"
   ]
  },
  {
   "cell_type": "markdown",
   "metadata": {},
   "source": [
    "# Correct voltage predictions"
   ]
  },
  {
   "cell_type": "code",
   "execution_count": 179,
   "metadata": {},
   "outputs": [],
   "source": [
    "pf_node[\"VM_pred_corrected\"] = pf_node[\"VM_pred\"]\n",
    "pf_node[\"VA_pred_corrected\"] = pf_node[\"VA_pred\"]\n",
    "\n",
    "pf_node.loc[pf_node.PV==1, \"VM_pred_corrected\"] = pf_node.loc[pf_node.PV==1, \"Vm\"]\n",
    "pf_node.loc[pf_node.REF==1, \"VA_pred_corrected\"] = pf_node.loc[pf_node.REF==1, \"Va\"]"
   ]
  },
  {
   "cell_type": "markdown",
   "metadata": {},
   "source": [
    "# Compute branch current and loading"
   ]
  },
  {
   "cell_type": "code",
   "execution_count": null,
   "metadata": {},
   "outputs": [],
   "source": [
    "loadings = []\n",
    "loadings_pred = []\n",
    "for scenario_idx in tqdm(pf_node.scenario.unique()):\n",
    "    pf_node_scenario = pf_node[pf_node.scenario == scenario_idx]\n",
    "    branch_idx_removed_scenario = branch_idx_removed[branch_idx_removed.scenario == scenario_idx].iloc[:, 1:].values\n",
    "    # remove nan\n",
    "    branch_idx_removed_scenario = branch_idx_removed_scenario[~np.isnan(branch_idx_removed_scenario)].astype(np.int32)\n",
    "    V_true = pf_node_scenario[\"Vm\"].values * np.exp(1j * pf_node_scenario[\"Va\"].values * np.pi / 180)\n",
    "    V_pred = pf_node_scenario[\"VM_pred_corrected\"].values * np.exp(1j * pf_node_scenario[\"VA_pred_corrected\"].values * np.pi / 180)\n",
    "    If_true, It_true = compute_branch_currents_kA(Yf, Yt, V_true, Vf_base_kV, Vt_base_kV, sn_mva)\n",
    "    If_pred, It_pred = compute_branch_currents_kA(Yf, Yt, V_pred, Vf_base_kV, Vt_base_kV, sn_mva)\n",
    "    loading_true = compute_loading(If_true, It_true, Vf_base_kV, Vt_base_kV, rate_a)\n",
    "    loading_pred = compute_loading(If_pred, It_pred, Vf_base_kV, Vt_base_kV, rate_a)\n",
    "    # remove the branches that are removed from loading\n",
    "    loading_true[branch_idx_removed_scenario] = -1\n",
    "    loading_pred[branch_idx_removed_scenario] = -1\n",
    "    loadings.append(loading_true)\n",
    "    loadings_pred.append(loading_pred)\n",
    "\n",
    "loadings = np.array(loadings)\n",
    "loadings_pred = np.array(loadings_pred)\n",
    "    \n",
    "\n",
    "    "
   ]
  },
  {
   "cell_type": "code",
   "execution_count": 181,
   "metadata": {},
   "outputs": [],
   "source": [
    "loadings = np.array(loadings)\n",
    "loadings_pred = np.array(loadings_pred)"
   ]
  },
  {
   "cell_type": "code",
   "execution_count": 182,
   "metadata": {},
   "outputs": [],
   "source": [
    "removed_lines = (loadings == -1)\n",
    "removed_lines_pred = (loadings_pred == -1)\n",
    "\n",
    "# assert the same lines are removed\n",
    "assert (removed_lines == removed_lines_pred).all()\n",
    "\n",
    "# assert the same number of lines are removed\n",
    "assert (removed_lines.sum() == removed_lines_pred.sum())\n",
    "\n"
   ]
  },
  {
   "cell_type": "markdown",
   "metadata": {},
   "source": [
    "# Compute overloadings"
   ]
  },
  {
   "cell_type": "code",
   "execution_count": 183,
   "metadata": {},
   "outputs": [],
   "source": [
    "overloadings = loadings[removed_lines==False] > 1\n",
    "overloadings_pred = (loadings_pred[removed_lines==False] > 0.9)\n"
   ]
  },
  {
   "cell_type": "markdown",
   "metadata": {},
   "source": [
    "# Compute TPR, FPR, TNR, FNR"
   ]
  },
  {
   "cell_type": "code",
   "execution_count": null,
   "metadata": {},
   "outputs": [],
   "source": [
    "TPR = (overloadings & overloadings_pred).sum() / overloadings.sum()\n",
    "FPR = ((~overloadings) & overloadings_pred).sum() / (~overloadings).sum()\n",
    "TNR = ((~overloadings) & ~overloadings_pred).sum() / (~overloadings).sum()\n",
    "FNR = (overloadings & ~overloadings_pred).sum() / overloadings.sum()\n",
    "\n",
    "print(f\"TPR: {TPR:.3f}, FPR: {FPR:.2f}, TNR: {TNR:.2f}, FNR: {FNR:.2f}\")\n",
    "\n"
   ]
  },
  {
   "cell_type": "markdown",
   "metadata": {},
   "source": [
    "# Find best threshold for classification"
   ]
  },
  {
   "cell_type": "code",
   "execution_count": 185,
   "metadata": {},
   "outputs": [],
   "source": [
    "from sklearn.metrics import f1_score"
   ]
  },
  {
   "cell_type": "code",
   "execution_count": null,
   "metadata": {},
   "outputs": [],
   "source": [
    "best_thresh = 0.0\n",
    "best_f1 = 0.0\n",
    "thresholds = np.linspace(0.7, 1, 31)\n",
    "\n",
    "for thresh in tqdm(thresholds):\n",
    "    y_pred = (loadings_pred[removed_lines==False] >= thresh)\n",
    "    f1 = f1_score(overloadings, y_pred)\n",
    "    if f1 > best_f1:\n",
    "        best_f1 = f1\n",
    "        best_thresh = thresh\n",
    "\n",
    "print(f\"Best threshold: {best_thresh}, Best F1: {best_f1}\")"
   ]
  },
  {
   "cell_type": "code",
   "execution_count": null,
   "metadata": {},
   "outputs": [],
   "source": [
    "#ROC curve\n",
    "# import roc curve\n",
    "from sklearn.metrics import roc_curve\n",
    "fpr, tpr, thresholds = roc_curve(overloadings, loadings_pred[removed_lines==False])\n",
    "plt.plot(fpr, tpr)\n",
    "plt.xlabel(\"FPR\")\n",
    "plt.ylabel(\"TPR\")\n",
    "plt.show()\n"
   ]
  },
  {
   "cell_type": "code",
   "execution_count": null,
   "metadata": {},
   "outputs": [],
   "source": [
    "# Create DataFrame for FPR, TPR, and Threshold\n",
    "fpr_tpr = pd.DataFrame({\"FPR\": fpr, \"TPR\": tpr, \"Threshold\": thresholds})\n",
    "\n",
    "# Plot FPR on a log scale\n",
    "fig, ax1 = plt.subplots()\n",
    "\n",
    "ax1.plot(fpr_tpr[\"Threshold\"], fpr_tpr[\"FPR\"], label=\"FPR\", color='blue')\n",
    "ax1.set_xlabel(\"Threshold\")\n",
    "ax1.set_ylabel(\"FPR (log scale)\", color='blue')\n",
    "ax1.set_yscale('log')  # log scale for FPR\n",
    "ax1.tick_params(axis='y', labelcolor='blue')\n",
    "ax1.set_xlim(0.90, 1.05)\n",
    "\n",
    "\n",
    "\n",
    "# Create a second y-axis for TPR\n",
    "ax2 = ax1.twinx()\n",
    "ax2.plot(fpr_tpr[\"Threshold\"], fpr_tpr[\"TPR\"], label=\"TPR\", color='red')\n",
    "ax2.set_ylabel(\"TPR (log scale)\", color='red')\n",
    "ax2.set_yscale('log')  # log scale for TPR\n",
    "ax2.tick_params(axis='y', labelcolor='red')\n",
    "ax2.set_ylim(0.90, 1.05)\n",
    "\n",
    "# Add legends\n",
    "ax1.legend(loc='upper left')\n",
    "ax2.legend(loc='upper right')\n",
    "\n",
    "plt.title(\"FPR and TPR vs Threshold (Log Scale)\")\n",
    "plt.show()"
   ]
  },
  {
   "cell_type": "markdown",
   "metadata": {},
   "source": [
    "# Plot histogram of true loadings\n",
    "\n"
   ]
  },
  {
   "cell_type": "code",
   "execution_count": null,
   "metadata": {},
   "outputs": [],
   "source": [
    "plt.hist(loadings[removed_lines==False], bins=100)\n",
    "plt.xlabel(\"True Loadings\")\n",
    "plt.ylabel(\"Frequency\")\n",
    "plt.title(\"Histogram of True Loadings\")\n",
    "# log scale\n",
    "plt.show()\n",
    "\n"
   ]
  },
  {
   "cell_type": "markdown",
   "metadata": {},
   "source": [
    "# Plot pred vs true loadings"
   ]
  },
  {
   "cell_type": "code",
   "execution_count": 191,
   "metadata": {},
   "outputs": [],
   "source": [
    "# create df from loadings\n",
    "loadings_df = pd.DataFrame(loadings)\n",
    "loadings_df.columns = [f\"branch_{i}\" for i in range(loadings_df.shape[1])]\n",
    "\n",
    "loadings_pred_df = pd.DataFrame(loadings_pred)\n",
    "loadings_pred_df.columns = [f\"branch_{i}\" for i in range(loadings_pred_df.shape[1])]\n"
   ]
  },
  {
   "cell_type": "code",
   "execution_count": null,
   "metadata": {},
   "outputs": [],
   "source": [
    "# scatter plot of loadings and loadings_pred\n",
    "plt.scatter(loadings[removed_lines==False], loadings_pred[removed_lines==False], alpha=0.1)\n",
    "plt.xlabel(\"True Loadings\")\n",
    "plt.ylabel(\"Predicted Loadings\")\n",
    "# plot the line y=x\n",
    "plt.plot([0, 1], [0, 1], 'k--')\n",
    "plt.show()\n",
    "\n"
   ]
  },
  {
   "cell_type": "markdown",
   "metadata": {},
   "source": [
    "# Plot loading predictions at every bus (takes about 30 seconds)"
   ]
  },
  {
   "cell_type": "code",
   "execution_count": null,
   "metadata": {},
   "outputs": [],
   "source": [
    "# Calculate grid dimensions\n",
    "n_branches = loadings.shape[1]\n",
    "n_cols = 4  # You can adjust this to change the number of columns\n",
    "n_rows = (n_branches + n_cols - 1) // n_cols  # Ceiling division\n",
    "\n",
    "# Create figure with subplots\n",
    "fig, axes = plt.subplots(n_rows, n_cols, figsize=(15, 3*n_rows))\n",
    "axes = axes.flatten()\n",
    "\n",
    "# Plot each bus\n",
    "for i in range(n_branches):\n",
    "    ax = axes[i]\n",
    "    ax.scatter(loadings[:, i], loadings_pred[:, i], alpha=0.1, s=10)\n",
    "    ax.set_xlabel(\"True\")\n",
    "    ax.set_ylabel(\"Pred\")\n",
    "    ax.set_title(f\"Branch {i+1}\")\n",
    "    \n",
    "    # Set equal aspect ratio\n",
    "    ax.set_aspect('equal')\n",
    "    \n",
    "    # Set same limits for x and y\n",
    "    max_val = max(loadings[:, i].max(), loadings_pred[:, i].max())\n",
    "    min_val = min(loadings[:, i].min(), loadings_pred[:, i].min())\n",
    "    ax.set_xlim(min_val, max_val)\n",
    "    ax.set_ylim(min_val, max_val)\n",
    "    \n",
    "    # Add diagonal line\n",
    "    ax.plot([min_val, max_val], [min_val, max_val], 'r--', alpha=0.5)\n",
    "\n",
    "# Hide unused subplots\n",
    "for i in range(n_branches, len(axes)):\n",
    "    axes[i].set_visible(False)\n",
    "\n",
    "plt.tight_layout()\n",
    "plt.show()"
   ]
  },
  {
   "cell_type": "markdown",
   "metadata": {},
   "source": [
    "# Voltage violations"
   ]
  },
  {
   "cell_type": "code",
   "execution_count": 194,
   "metadata": {},
   "outputs": [],
   "source": [
    "# merge bus_params[\"vmax\"] and bus_params[\"vmin\"] with pf_node on bus_idx\n",
    "pf_node = pd.merge(pf_node, bus_params[[\"bus\", \"vmax\", \"vmin\"]], on=\"bus\", how=\"left\")\n"
   ]
  },
  {
   "cell_type": "code",
   "execution_count": null,
   "metadata": {},
   "outputs": [],
   "source": [
    "# check violations of vmax and vmin with VM_pred_corrected and Vm\n",
    "voltage_violations = (pf_node[\"Vm\"] > pf_node[\"vmax\"]) | (pf_node[\"Vm\"] < pf_node[\"vmin\"])\n",
    "voltage_violations_pred = (pf_node[\"VM_pred_corrected\"] > pf_node[\"vmax\"]) | (pf_node[\"VM_pred_corrected\"] < pf_node[\"vmin\"])\n",
    "\n",
    "# compute TPR, FPR, TNR, FNR\n",
    "TPR = (voltage_violations & voltage_violations_pred).sum() / voltage_violations.sum()\n",
    "FPR = (voltage_violations & (~voltage_violations_pred)).sum() / (~voltage_violations).sum()\n",
    "TNR = (~voltage_violations & ~voltage_violations_pred).sum() / (~voltage_violations).sum()\n",
    "FNR = (voltage_violations & (~voltage_violations_pred)).sum() / voltage_violations.sum()\n",
    "\n",
    "print(f\"TPR: {TPR}, FPR: {FPR}, TNR: {TNR}, FNR: {FNR}\")"
   ]
  },
  {
   "cell_type": "code",
   "execution_count": null,
   "metadata": {},
   "outputs": [],
   "source": [
    "# mae on voltage magnitude\n",
    "mae = np.mean(np.abs(pf_node[\"Vm\"] - pf_node[\"VM_pred_corrected\"]))\n",
    "mae"
   ]
  },
  {
   "cell_type": "code",
   "execution_count": null,
   "metadata": {},
   "outputs": [],
   "source": [
    "# scatter plot of va_pred_corrected and va\n",
    "plt.scatter(pf_node[\"Vm\"], pf_node[\"VM_pred_corrected\"])\n",
    "plt.xlabel(\"True Voltage magnitude\")\n",
    "plt.ylabel(\"Predicted Voltage magnitude\")\n",
    "# get max and min of pf_node[\"Vm\"] and pf_node[\"VM_pred_corrected\"]\n",
    "max_vm = pf_node[\"Vm\"].max()\n",
    "min_vm = pf_node[\"Vm\"].min()\n",
    "max_vm_pred = pf_node[\"VM_pred_corrected\"].max()\n",
    "min_vm_pred = pf_node[\"VM_pred_corrected\"].min()\n",
    "\n",
    "# plot y=x\n",
    "plt.plot([min_vm, max_vm], [min_vm, max_vm], 'k--')\n",
    "# plot y = 0.94\n",
    "plt.plot([min_vm, max_vm], [0.94, 0.94], 'k--')\n",
    "plt.plot([min_vm, max_vm], [1.06, 1.06], 'k--')\n",
    "# plot the line x = 0.94\n",
    "plt.plot([0.94, 0.94], [min_vm, max_vm], 'k--')\n",
    "# plot the line x = 1.06\n",
    "plt.plot([1.06, 1.06], [min_vm, max_vm], 'k--')\n",
    "# plot areas where x < 0.94 but y > 0.94\n",
    "plt.fill_between([min_vm, 0.94], [0.94, 0.94], [max_vm_pred, max_vm_pred], color='red', alpha=0.5, label='False Negative')\n",
    "# plot areas where x > 1.06 but y < 1.06\n",
    "plt.fill_between([1.06, max_vm], [1.06, 1.06], [min_vm, min_vm], color='red', alpha=0.5, label='False Negative')\n",
    "\n",
    "plt.legend()\n",
    "plt.show()\n",
    "\n"
   ]
  },
  {
   "cell_type": "code",
   "execution_count": null,
   "metadata": {},
   "outputs": [],
   "source": [
    "# compute rmse on va_pred_corrected and va\n",
    "rmse = np.sqrt(np.mean((pf_node[\"VA_pred\"] - pf_node[\"Va\"])**2))\n",
    "print(f\"RMSE: {rmse}\")\n",
    "\n",
    "# compute rmse on vm_pred_corrected and vm\n",
    "rmse = np.sqrt(np.mean((pf_node[\"VM_pred\"] - pf_node[\"Vm\"])**2))\n",
    "print(f\"RMSE: {rmse}\")\n",
    "\n",
    "\n",
    "\n",
    "\n"
   ]
  },
  {
   "cell_type": "code",
   "execution_count": null,
   "metadata": {},
   "outputs": [],
   "source": [
    "# Group by bus\n",
    "grouped_pf_node = pf_node.groupby(\"bus\")\n",
    "buses = list(grouped_pf_node.groups.keys())\n",
    "n_buses = len(buses)\n",
    "\n",
    "# Grid dimensions\n",
    "n_cols = 4  # Adjust as needed\n",
    "n_rows = (n_buses + n_cols - 1) // n_cols  # Ceiling division\n",
    "\n",
    "# Create subplots\n",
    "fig, axes = plt.subplots(n_rows, n_cols, figsize=(15, 3 * n_rows))\n",
    "axes = axes.flatten()\n",
    "\n",
    "# Plot for each bus\n",
    "for i, bus in enumerate(buses):\n",
    "    group = grouped_pf_node.get_group(bus)\n",
    "    ax = axes[i]\n",
    "    \n",
    "    ax.scatter(group[\"Vm\"], group[\"VM_pred_corrected\"], alpha=0.1, s=10)\n",
    "    ax.set_xlabel(\"True\")\n",
    "    ax.set_ylabel(\"Pred\")\n",
    "    ax.set_title(f\"Bus {bus}\")\n",
    "    ax.set_aspect(\"equal\")\n",
    "\n",
    "    min_val = min(group[\"Vm\"].min(), group[\"VM_pred_corrected\"].min())\n",
    "    max_val = max(group[\"Vm\"].max(), group[\"VM_pred_corrected\"].max())\n",
    "    ax.set_xlim(min_val, max_val)\n",
    "    ax.set_ylim(min_val, max_val)\n",
    "    ax.plot([min_val, max_val], [min_val, max_val], 'k--', alpha=0.5)\n",
    "\n",
    "# Hide unused subplots\n",
    "for i in range(n_buses, len(axes)):\n",
    "    axes[i].set_visible(False)\n",
    "\n",
    "plt.tight_layout()\n",
    "plt.show()"
   ]
  }
 ],
 "metadata": {
  "kernelspec": {
   "display_name": "venv",
   "language": "python",
   "name": "python3"
  },
  "language_info": {
   "codemirror_mode": {
    "name": "ipython",
    "version": 3
   },
   "file_extension": ".py",
   "mimetype": "text/x-python",
   "name": "python",
   "nbconvert_exporter": "python",
   "pygments_lexer": "ipython3",
   "version": "3.9.6"
  }
 },
 "nbformat": 4,
 "nbformat_minor": 2
}
