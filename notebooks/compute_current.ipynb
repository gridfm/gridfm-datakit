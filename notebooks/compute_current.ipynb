{
 "cells": [
  {
   "cell_type": "code",
   "execution_count": 5,
   "metadata": {},
   "outputs": [],
   "source": [
    "import numpy as np\n",
    "import pandas as pd\n",
    "from matplotlib import pyplot as plt\n",
    "\n",
    "import pandapower as pp\n",
    "import pandapower.networks\n",
    "import pandapower.contingency\n",
    "import pandapower.control\n",
    "import pandapower.timeseries\n",
    "import pandapower.plotting\n",
    "from pandapower.pypower.makeYbus import makeYbus, branch_vectors\n",
    "import numpy as np\n",
    "from scipy.sparse import csr_matrix\n",
    "from pandapower.pypower.idx_brch import *\n",
    "from pandapower.pypower.idx_bus import BASE_KV, GS, BS"
   ]
  },
  {
   "cell_type": "code",
   "execution_count": 6,
   "metadata": {},
   "outputs": [],
   "source": [
    "net = pp.networks.case24_ieee_rts()\n",
    "pp.runopp(net)\n",
    "net.res_line[\"from_bus\"] = net.line.from_bus\n",
    "net.res_line[\"to_bus\"] = net.line.to_bus\n",
    "net.res_trafo[\"hv_bus\"] = net.trafo.hv_bus\n",
    "net.res_trafo[\"lv_bus\"] = net.trafo.lv_bus\n",
    "\n",
    "ppc = net._ppc\n",
    "branch = ppc[\"branch\"]\n",
    "bus = ppc[\"bus\"]\n",
    "nl = branch.shape[0]\n",
    "\n",
    "Ytt, Yff, Yft, Ytf = branch_vectors(branch, nl)\n",
    "\n",
    "\n",
    "\n"
   ]
  },
  {
   "cell_type": "code",
   "execution_count": 7,
   "metadata": {},
   "outputs": [],
   "source": [
    "\n",
    "V = net.res_bus.vm_pu * np.exp(1j * net.res_bus.va_degree * np.pi / 180)\n",
    "Base_kv = bus[:, BASE_KV]\n",
    "edge_index = np.real(branch[:, [F_BUS, T_BUS]]).astype(int)\n",
    "rate_a = np.real(branch[:, RATE_A])\n",
    "edge_attr = np.stack([Yff, Yft, Ytf, Ytt, rate_a], axis=1)\n",
    "\n",
    "# shuffle edge_index and edge_attr by the same permutation\n",
    "perm = np.random.permutation(edge_index.shape[0])\n",
    "edge_index = edge_index[perm]\n",
    "edge_attr = edge_attr[perm]"
   ]
  },
  {
   "cell_type": "code",
   "execution_count": 8,
   "metadata": {},
   "outputs": [],
   "source": [
    "def check_assumptions(net):\n",
    "    # check parallel = 1 \n",
    "    assert np.all(net.line.parallel == 1)\n",
    "    assert np.all(net.trafo.parallel == 1)\n",
    "\n",
    "\n",
    "check_assumptions(net)\n"
   ]
  },
  {
   "cell_type": "code",
   "execution_count": 9,
   "metadata": {},
   "outputs": [],
   "source": [
    "def get_line_index(from_bus, to_bus):\n",
    "    # Return the index in edge_index where (from_bus, to_bus) matches\n",
    "    idx = np.where((edge_index[:, 0] == from_bus) & (edge_index[:, 1] == to_bus))[0]\n",
    "    if idx.size == 0:\n",
    "        raise ValueError(f\"Edge ({from_bus}, {to_bus}) not found in edge_index\")\n",
    "    return idx"
   ]
  },
  {
   "cell_type": "code",
   "execution_count": 10,
   "metadata": {},
   "outputs": [],
   "source": [
    "def compute_branch_currents_kA(nb, nl, sn_mva, edge_index, edge_attr, V, Base_kv):\n",
    "    \"\"\"\n",
    "    Computes from-end and to-end branch currents in kA.\n",
    "\n",
    "    Parameters:\n",
    "    - nb: int, number of buses\n",
    "    - nl: int, number of branches (lines)\n",
    "    - sn_mva: float, system base power in MVA\n",
    "    - edge_index: np.ndarray of shape (nl, 2), with [from_bus, to_bus] per branch\n",
    "    - edge_attr: np.ndarray of shape (nl, 4), with [Yff, Yft, Ytf, Ytt] per branch\n",
    "    - V: np.ndarray of complex bus voltages in per-unit (shape: nb,)\n",
    "    - Base_kv: np.ndarray of shape (nb,), base voltage in kV\n",
    "\n",
    "    Returns:\n",
    "    - If_kA: np.ndarray of shape (nl,), from-end current magnitudes in kA\n",
    "    - It_kA: np.ndarray of shape (nl,), to-end current magnitudes in kA\n",
    "    \"\"\"\n",
    "    f = edge_index[:, 0]\n",
    "    t = edge_index[:, 1]\n",
    "\n",
    "    Yff = edge_attr[:, 0]\n",
    "    Yft = edge_attr[:, 1]\n",
    "    Ytf = edge_attr[:, 2]\n",
    "    Ytt = edge_attr[:, 3]\n",
    "\n",
    "    Vf_base_kV = Base_kv[f]\n",
    "    Vt_base_kV = Base_kv[t]\n",
    "\n",
    "    i = np.hstack([np.arange(nl), np.arange(nl)])\n",
    "\n",
    "    # From-end admittance matrix and current\n",
    "    Yf = csr_matrix((np.hstack([Yff, Yft]), (i, np.hstack([f, t]))), shape=(nl, nb))\n",
    "    If_pu = Yf @ V\n",
    "    If_kA = np.abs(If_pu) * sn_mva / (np.sqrt(3) * Vf_base_kV)\n",
    "\n",
    "    # To-end admittance matrix and current\n",
    "    Yt = csr_matrix((np.hstack([Ytf, Ytt]), (i, np.hstack([f, t]))), shape=(nl, nb))\n",
    "    It_pu = Yt @ V\n",
    "    It_kA = np.abs(It_pu) * sn_mva / (np.sqrt(3) * Vt_base_kV)\n",
    "\n",
    "    return If_kA, It_kA\n",
    "\n",
    "\n",
    "def check_branch_currents(net, edge_index, If_kA, It_kA, decimals=6):\n",
    "    \"\"\"\n",
    "    Compares calculated branch currents and loading with pandapower results.\n",
    "\n",
    "    Parameters:\n",
    "    - net: pandapower network\n",
    "    - edge_index: np.ndarray of shape (n_edges, 2), from and to bus indices\n",
    "    - If_kA: np.ndarray of calculated from-end branch currents\n",
    "    - It_kA: np.ndarray of calculated to-end branch currents\n",
    "    - decimals: int, number of decimal places to round to\n",
    "    \"\"\"\n",
    "    \n",
    "    # create sets of all (from_bus, to_bus, I_from_kA, I_to_kA) for lines\n",
    "    set_of_lines = set((line.from_bus, line.to_bus, np.round(line.i_from_ka, decimals), np.round(line.i_to_ka, decimals)) for line in net.res_line.itertuples())\n",
    "    # add trafos to the set\n",
    "    set_of_lines.update((trafo.hv_bus, trafo.lv_bus, np.round(trafo.i_hv_ka, decimals), np.round(trafo.i_lv_ka, decimals)) for trafo in net.res_trafo.itertuples())\n",
    "    set_of_lines_computed = set((edge_index[line_index, 0], edge_index[line_index, 1], np.round(If_kA[line_index], decimals), np.round(It_kA[line_index], decimals)) for line_index in range(edge_index.shape[0]))\n",
    "    # assert that the two sets are equal\n",
    "    assert set_of_lines == set_of_lines_computed, \"Lines do not match\"\n",
    "\n",
    "\n",
    "\n",
    "\n"
   ]
  },
  {
   "cell_type": "code",
   "execution_count": 11,
   "metadata": {},
   "outputs": [],
   "source": [
    "If_kA, It_kA = compute_branch_currents_kA(bus.shape[0], branch.shape[0], net.sn_mva, edge_index, edge_attr, V, Base_kv)"
   ]
  },
  {
   "cell_type": "code",
   "execution_count": 12,
   "metadata": {},
   "outputs": [],
   "source": [
    "# check the results\n",
    "check_branch_currents(net, edge_index, If_kA, It_kA, decimals=6)\n"
   ]
  },
  {
   "cell_type": "code",
   "execution_count": 13,
   "metadata": {},
   "outputs": [],
   "source": [
    "def compute_loading(edge_index, If_kA, It_kA, base_kv, edge_attr):\n",
    "    \"\"\"\n",
    "    Compute per-branch loading using current magnitudes and branch ratings.\n",
    "\n",
    "    Parameters:\n",
    "    - edge_index: np.ndarray of shape (n_edges, 2), each row is [from_bus, to_bus]\n",
    "    - If_kA: np.ndarray of from-side current magnitudes in kA\n",
    "    - It_kA: np.ndarray of to-side current magnitudes in kA\n",
    "    - base_kv: np.ndarray of shape (n_buses,), base voltage in kV per bus\n",
    "    - edge_attr: np.ndarray of shape (n_edges, >=5), edge features, column 4 = RATE_A\n",
    "\n",
    "    Returns:\n",
    "    - loading: np.ndarray of shape (n_edges,), max of from and to side loading\n",
    "    \"\"\"\n",
    "    from_bus = edge_index[:, 0]\n",
    "    to_bus = edge_index[:, 1]\n",
    "    Vf_base_kV = base_kv[from_bus]\n",
    "    Vt_base_kV = base_kv[to_bus]\n",
    "\n",
    "    rateA = np.real(edge_attr[:, 4])\n",
    "\n",
    "    limitf = rateA / (Vf_base_kV * np.sqrt(3))\n",
    "    limitt = rateA / (Vt_base_kV * np.sqrt(3))\n",
    "\n",
    "    loadingf = If_kA / limitf\n",
    "    loadingt = It_kA / limitt\n",
    "\n",
    "    return np.maximum(loadingf, loadingt)\n"
   ]
  },
  {
   "cell_type": "code",
   "execution_count": 14,
   "metadata": {},
   "outputs": [],
   "source": [
    "loading = compute_loading(edge_index, If_kA, It_kA, Base_kv, edge_attr)\n"
   ]
  },
  {
   "cell_type": "code",
   "execution_count": 15,
   "metadata": {},
   "outputs": [],
   "source": [
    "def check_loading(net, edge_index, loading, decimals=6):\n",
    "    \"\"\"\n",
    "    Compare computed loading against values in net.res_line and net.res_trafo.\n",
    "\n",
    "    Parameters:\n",
    "    - net: pandapower network\n",
    "    - edge_index: np.ndarray of shape (n_edges, 2), mapping lines/transformers to buses\n",
    "    - loading: np.ndarray of computed loading (shape = number of branches)\n",
    "    \"\"\"\n",
    "    \n",
    "    # create sets of all (from_bus, to_bus, loading) for lines\n",
    "    set_of_lines = set((line.from_bus, line.to_bus, np.round(line.loading_percent / 100, decimals)) for line in net.res_line.itertuples())\n",
    "    # add trafos to the set\n",
    "    set_of_lines.update((trafo.hv_bus, trafo.lv_bus, np.round(trafo.loading_percent / 100, decimals)) for trafo in net.res_trafo.itertuples())\n",
    "    set_of_lines_computed = set((edge_index[line_index, 0], edge_index[line_index, 1], np.round(loading[line_index], decimals)) for line_index in range(edge_index.shape[0]))\n",
    "    # assert that the two sets are equal\n",
    "    assert set_of_lines == set_of_lines_computed, \"Lines do not match\"\n",
    "    \n"
   ]
  },
  {
   "cell_type": "code",
   "execution_count": 16,
   "metadata": {},
   "outputs": [],
   "source": [
    "check_loading(net, edge_index, loading)"
   ]
  }
 ],
 "metadata": {
  "kernelspec": {
   "display_name": "venv",
   "language": "python",
   "name": "python3"
  },
  "language_info": {
   "codemirror_mode": {
    "name": "ipython",
    "version": 3
   },
   "file_extension": ".py",
   "mimetype": "text/x-python",
   "name": "python",
   "nbconvert_exporter": "python",
   "pygments_lexer": "ipython3",
   "version": "3.9.6"
  }
 },
 "nbformat": 4,
 "nbformat_minor": 2
}
