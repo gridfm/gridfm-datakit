{
 "cells": [
  {
   "cell_type": "code",
   "execution_count": 1,
   "metadata": {},
   "outputs": [],
   "source": [
    "import numpy as np\n",
    "import pandas as pd\n",
    "from matplotlib import pyplot as plt\n",
    "\n",
    "import pandapower as pp\n",
    "import pandapower.networks\n",
    "import pandapower.contingency\n",
    "import pandapower.control\n",
    "import pandapower.timeseries\n",
    "import pandapower.plotting\n",
    "from pandapower.pypower.makeYbus import makeYbus, branch_vectors\n",
    "import numpy as np\n",
    "from scipy.sparse import csr_matrix\n",
    "from pandapower.pypower.idx_brch import *\n",
    "from pandapower.pypower.idx_bus import BASE_KV, GS, BS"
   ]
  },
  {
   "cell_type": "code",
   "execution_count": 2,
   "metadata": {},
   "outputs": [],
   "source": [
    "net = pp.networks.case118()\n",
    "pp.runopp(net)\n",
    "net.res_line[\"from_bus\"] = net.line.from_bus\n",
    "net.res_line[\"to_bus\"] = net.line.to_bus\n",
    "net.res_trafo[\"hv_bus\"] = net.trafo.hv_bus\n",
    "net.res_trafo[\"lv_bus\"] = net.trafo.lv_bus\n",
    "\n",
    "ppc = net._ppc\n",
    "branch = ppc[\"branch\"]\n",
    "bus = ppc[\"bus\"]\n",
    "nl = branch.shape[0]\n",
    "\n",
    "Ytt, Yff, Yft, Ytf = branch_vectors(branch, nl)\n",
    "\n",
    "\n",
    "\n"
   ]
  },
  {
   "cell_type": "code",
   "execution_count": 3,
   "metadata": {},
   "outputs": [],
   "source": [
    "def check_assumptions(net):\n",
    "    # check parallel = 1 \n",
    "    assert np.all(net.line.parallel == 1)\n",
    "    assert np.all(net.trafo.parallel == 1)\n",
    "\n",
    "\n",
    "check_assumptions(net)\n"
   ]
  },
  {
   "cell_type": "code",
   "execution_count": 4,
   "metadata": {},
   "outputs": [],
   "source": [
    "def compute_branch_currents_kA(nb, nl, sn_mva, edge_index, edge_attr, V, Base_kv):\n",
    "    \"\"\"\n",
    "    Computes from-end and to-end branch currents in kA.\n",
    "\n",
    "    Parameters:\n",
    "    - nb: int, number of buses\n",
    "    - nl: int, number of branches (lines)\n",
    "    - sn_mva: float, system base power in MVA\n",
    "    - edge_index: np.ndarray of shape (nl, 2), with [from_bus, to_bus] per branch\n",
    "    - edge_attr: np.ndarray of shape (nl, 4), with [Yff, Yft, Ytf, Ytt] per branch\n",
    "    - V: np.ndarray of complex bus voltages in per-unit (shape: nb,)\n",
    "    - Base_kv: np.ndarray of shape (nb,), base voltage in kV\n",
    "\n",
    "    Returns:\n",
    "    - If_kA: np.ndarray of shape (nl,), from-end current magnitudes in kA\n",
    "    - It_kA: np.ndarray of shape (nl,), to-end current magnitudes in kA\n",
    "    \"\"\"\n",
    "\n",
    "    # Extract from-bus and to-bus indices for each branch\n",
    "    f = edge_index[:, 0]\n",
    "    t = edge_index[:, 1]\n",
    "\n",
    "    # Extract branch admittance coefficients\n",
    "    Yff = edge_attr[:, 0]  # self-admittance at from-end\n",
    "    Yft = edge_attr[:, 1]  # mutual admittance from from-end to to-end\n",
    "    Ytf = edge_attr[:, 2]  # mutual admittance from to-end to from-end\n",
    "    Ytt = edge_attr[:, 3]  # self-admittance at to-end\n",
    "\n",
    "    # Get base voltages for the from and to buses (for kA conversion)\n",
    "    Vf_base_kV = Base_kv[f]\n",
    "    Vt_base_kV = Base_kv[t]\n",
    "\n",
    "    # i = [0, 1, ..., nl-1, 0, 1, ..., nl-1], used for constructing Yf and Yt\n",
    "    i = np.hstack([np.arange(nl), np.arange(nl)])\n",
    "\n",
    "    # Construct from-end admittance matrix Yf using the linear combination:\n",
    "    # Yf[b, :] = y_ff_b * e_f + y_ft_b * e_t\n",
    "    Yf = csr_matrix((np.hstack([Yff, Yft]), (i, np.hstack([f, t]))), shape=(nl, nb))\n",
    "    If_pu = Yf @ V  # From-end currents in per-unit (I_f = Y_f V)\n",
    "    If_kA = np.abs(If_pu) * sn_mva / (np.sqrt(3) * Vf_base_kV)  # Conversion to kA\n",
    "\n",
    "    # Construct to-end admittance matrix Yt:\n",
    "    # Yt[b, :] = y_tf_b * e_f + y_tt_b * e_t\n",
    "    Yt = csr_matrix((np.hstack([Ytf, Ytt]), (i, np.hstack([f, t]))), shape=(nl, nb))\n",
    "    It_pu = Yt @ V  # To-end currents in per-unit (I_t = Y_t V)\n",
    "    It_kA = np.abs(It_pu) * sn_mva / (np.sqrt(3) * Vt_base_kV)  # Conversion to kA\n",
    "\n",
    "    return If_kA, It_kA\n",
    "\n",
    "\n",
    "\n",
    "def check_branch_currents(net, edge_index, If_kA, It_kA, decimals=6):\n",
    "    \"\"\"\n",
    "    Compares calculated branch currents and loading with pandapower results.\n",
    "\n",
    "    Parameters:\n",
    "    - net: pandapower network\n",
    "    - edge_index: np.ndarray of shape (n_edges, 2), from and to bus indices\n",
    "    - If_kA: np.ndarray of calculated from-end branch currents\n",
    "    - It_kA: np.ndarray of calculated to-end branch currents\n",
    "    - decimals: int, number of decimal places to round to\n",
    "    \"\"\"\n",
    "    \n",
    "    # create sets of all (from_bus, to_bus, I_from_kA, I_to_kA) for lines\n",
    "    set_of_lines = set((line.from_bus, line.to_bus, np.round(line.i_from_ka, decimals), np.round(line.i_to_ka, decimals)) for line in net.res_line.itertuples())\n",
    "    # add trafos to the set\n",
    "    set_of_lines.update((trafo.hv_bus, trafo.lv_bus, np.round(trafo.i_hv_ka, decimals), np.round(trafo.i_lv_ka, decimals)) for trafo in net.res_trafo.itertuples())\n",
    "    set_of_lines_computed = set((edge_index[line_index, 0], edge_index[line_index, 1], np.round(If_kA[line_index], decimals), np.round(It_kA[line_index], decimals)) for line_index in range(edge_index.shape[0]))\n",
    "    # assert that the two sets are equal\n",
    "    assert set_of_lines == set_of_lines_computed, \"Lines do not match\"\n",
    "\n",
    "\n",
    "\n",
    "\n"
   ]
  },
  {
   "cell_type": "code",
   "execution_count": 5,
   "metadata": {},
   "outputs": [],
   "source": [
    "\n",
    "V = net.res_bus.vm_pu * np.exp(1j * net.res_bus.va_degree * np.pi / 180)\n",
    "Base_kv = bus[:, BASE_KV]\n",
    "edge_index = np.real(branch[:, [F_BUS, T_BUS]]).astype(int)\n",
    "rate_a = np.real(branch[:, RATE_A])\n",
    "edge_attr = np.stack([Yff, Yft, Ytf, Ytt, rate_a], axis=1)\n",
    "\n",
    "# # shuffle edge_index and edge_attr by the same permutation\n",
    "# perm = np.random.permutation(edge_index.shape[0])\n",
    "# edge_index = edge_index[perm]\n",
    "# edge_attr = edge_attr[perm]"
   ]
  },
  {
   "cell_type": "code",
   "execution_count": 6,
   "metadata": {},
   "outputs": [],
   "source": [
    "If_kA, It_kA = compute_branch_currents_kA(bus.shape[0], branch.shape[0], net.sn_mva, edge_index, edge_attr, V, Base_kv)"
   ]
  },
  {
   "cell_type": "code",
   "execution_count": 7,
   "metadata": {},
   "outputs": [],
   "source": [
    "#add (edge_index[i,1], edge_index[i,0]) for each i in edge_index\n",
    "edge_index2 = np.concatenate([edge_index, np.flip(edge_index, axis=1)], axis=0)\n",
    "edge_attr2 = np.concatenate([edge_attr, edge_attr[:, [3,2,1,0,4]]], axis=0)\n",
    "\n",
    "\n"
   ]
  },
  {
   "cell_type": "code",
   "execution_count": 8,
   "metadata": {},
   "outputs": [],
   "source": [
    "If_kA2, It_kA2 = compute_branch_currents_kA(bus.shape[0], branch.shape[0]*2, net.sn_mva, edge_index2, edge_attr2, V, Base_kv)"
   ]
  },
  {
   "cell_type": "code",
   "execution_count": 9,
   "metadata": {},
   "outputs": [],
   "source": [
    "assert np.all(If_kA2[:If_kA2.shape[0]//2] - It_kA2[It_kA2.shape[0]//2:] < 1e-10)\n",
    "assert np.all(np.abs(If_kA2[:If_kA2.shape[0]//2]-It_kA2[It_kA2.shape[0]//2:]) < 1e-10)\n",
    "\n",
    "assert np.all(np.abs(If_kA2[:If_kA2.shape[0]//2]-If_kA) < 1e-10)\n",
    "assert np.all(np.abs(If_kA2[It_kA2.shape[0]//2:]-It_kA) < 1e-10)\n",
    "\n",
    "\n",
    "\n",
    "\n",
    "\n",
    "\n",
    "\n",
    "\n"
   ]
  },
  {
   "cell_type": "code",
   "execution_count": 10,
   "metadata": {},
   "outputs": [],
   "source": [
    "def compute_branch_currents_kA_duplicated_lines(nb, nl, sn_mva, edge_index, edge_attr, V, Base_kv):\n",
    "    \"\"\"\n",
    "    Computes from-end and to-end branch currents in kA.\n",
    "\n",
    "    Parameters:\n",
    "    - nb: int, number of buses\n",
    "    - nl: int, number of branches (lines)\n",
    "    - sn_mva: float, system base power in MVA\n",
    "    - edge_index: np.ndarray of shape (nl, 2), with [from_bus, to_bus] per branch\n",
    "    - edge_attr: np.ndarray of shape (nl, 4), with [Yff, Yft, Ytf, Ytt] per branch\n",
    "    - V: np.ndarray of complex bus voltages in per-unit (shape: nb,)\n",
    "    - Base_kv: np.ndarray of shape (nb,), base voltage in kV\n",
    "\n",
    "    Returns:\n",
    "    - If_kA: np.ndarray of shape (nl,), from-end current magnitudes in kA\n",
    "    - It_kA: np.ndarray of shape (nl,), to-end current magnitudes in kA\n",
    "    \"\"\"\n",
    "\n",
    "    # assert no self loops\n",
    "    assert np.all(edge_index[:, 0] != edge_index[:, 1])\n",
    "\n",
    "    # Extract from-bus and to-bus indices for each branch\n",
    "    f = edge_index[:, 0]\n",
    "    t = edge_index[:, 1]\n",
    "\n",
    "    # Extract branch admittance coefficients\n",
    "    Yff = edge_attr[:, 0]  # self-admittance at from-end\n",
    "    Yft = edge_attr[:, 1]  # mutual admittance from from-end to to-end\n",
    "\n",
    "\n",
    "    # Get base voltages for the from and to buses (for kA conversion)\n",
    "    Vf_base_kV = Base_kv[f]\n",
    "    Vt_base_kV = Base_kv[t]\n",
    "\n",
    "    # i = [0, 1, ..., nl-1, 0, 1, ..., nl-1], used for constructing Yf and Yt\n",
    "    i = np.hstack([np.arange(nl), np.arange(nl)])\n",
    "\n",
    "    # Construct from-end admittance matrix Yf using the linear combination:\n",
    "    # Yf[b, :] = y_ff_b * e_f + y_ft_b * e_t\n",
    "    Yf = csr_matrix((np.hstack([Yff, Yft]), (i, np.hstack([f, t]))), shape=(nl, nb))\n",
    "    If_pu = Yf @ V  # From-end currents in per-unit (I_f = Y_f V)\n",
    "    If_kA = np.abs(If_pu) * sn_mva / (np.sqrt(3) * Vf_base_kV)  # Conversion to kA\n",
    "\n",
    "    return If_kA\n"
   ]
  },
  {
   "cell_type": "code",
   "execution_count": 11,
   "metadata": {},
   "outputs": [],
   "source": [
    "If_kA_duplicated = compute_branch_currents_kA_duplicated_lines(bus.shape[0], branch.shape[0]*2, net.sn_mva, edge_index2, edge_attr2, V, Base_kv)\n",
    "assert np.all(np.abs(If_kA_duplicated[:If_kA_duplicated.shape[0]//2]-If_kA) < 1e-10)\n",
    "assert np.all(np.abs(If_kA_duplicated[If_kA_duplicated.shape[0]//2:]-It_kA) < 1e-10)\n",
    "\n",
    "\n",
    "\n"
   ]
  },
  {
   "cell_type": "code",
   "execution_count": 12,
   "metadata": {},
   "outputs": [],
   "source": [
    "# check the results\n",
    "check_branch_currents(net, edge_index, If_kA, It_kA, decimals=6)\n"
   ]
  },
  {
   "cell_type": "code",
   "execution_count": 13,
   "metadata": {},
   "outputs": [],
   "source": [
    "def compute_loading(edge_index, If_kA, It_kA, base_kv, edge_attr):\n",
    "    \"\"\"\n",
    "    Compute per-branch loading using current magnitudes and branch ratings.\n",
    "\n",
    "    Parameters:\n",
    "    - edge_index: np.ndarray of shape (n_edges, 2), each row is [from_bus, to_bus]\n",
    "    - If_kA: np.ndarray of from-side current magnitudes in kA\n",
    "    - It_kA: np.ndarray of to-side current magnitudes in kA\n",
    "    - base_kv: np.ndarray of shape (n_buses,), base voltage in kV per bus\n",
    "    - edge_attr: np.ndarray of shape (n_edges, >=5), edge features, column 4 = RATE_A\n",
    "\n",
    "    Returns:\n",
    "    - loading: np.ndarray of shape (n_edges,), max of from and to side loading\n",
    "    \"\"\"\n",
    "    from_bus = edge_index[:, 0]\n",
    "    to_bus = edge_index[:, 1]\n",
    "    Vf_base_kV = base_kv[from_bus]\n",
    "    Vt_base_kV = base_kv[to_bus]\n",
    "\n",
    "    rateA = np.real(edge_attr[:, 4])\n",
    "\n",
    "    limitf = rateA / (Vf_base_kV * np.sqrt(3))\n",
    "    limitt = rateA / (Vt_base_kV * np.sqrt(3))\n",
    "\n",
    "    loadingf = If_kA / limitf\n",
    "    loadingt = It_kA / limitt\n",
    "\n",
    "    return np.maximum(loadingf, loadingt)\n"
   ]
  },
  {
   "cell_type": "code",
   "execution_count": 14,
   "metadata": {},
   "outputs": [],
   "source": [
    "loading = compute_loading(edge_index, If_kA, It_kA, Base_kv, edge_attr)\n"
   ]
  },
  {
   "cell_type": "code",
   "execution_count": 15,
   "metadata": {},
   "outputs": [],
   "source": [
    "def check_loading(net, edge_index, loading, decimals=6):\n",
    "    \"\"\"\n",
    "    Compare computed loading against values in net.res_line and net.res_trafo.\n",
    "\n",
    "    Parameters:\n",
    "    - net: pandapower network\n",
    "    - edge_index: np.ndarray of shape (n_edges, 2), mapping lines/transformers to buses\n",
    "    - loading: np.ndarray of computed loading (shape = number of branches)\n",
    "    \"\"\"\n",
    "    \n",
    "    # create sets of all (from_bus, to_bus, loading) for lines\n",
    "    set_of_lines = set((line.from_bus, line.to_bus, np.round(line.loading_percent / 100, decimals)) for line in net.res_line.itertuples())\n",
    "    # add trafos to the set\n",
    "    set_of_lines.update((trafo.hv_bus, trafo.lv_bus, np.round(trafo.loading_percent / 100, decimals)) for trafo in net.res_trafo.itertuples())\n",
    "    set_of_lines_computed = set((edge_index[line_index, 0], edge_index[line_index, 1], np.round(loading[line_index], decimals)) for line_index in range(edge_index.shape[0]))\n",
    "    # assert that the two sets are equal\n",
    "    assert set_of_lines == set_of_lines_computed, \"Lines do not match\"\n",
    "    \n"
   ]
  },
  {
   "cell_type": "code",
   "execution_count": 16,
   "metadata": {},
   "outputs": [],
   "source": [
    "check_loading(net, edge_index, loading)\n"
   ]
  },
  {
   "cell_type": "code",
   "execution_count": 17,
   "metadata": {},
   "outputs": [],
   "source": [
    "# check the results\n",
    "from pandapower.pypower.idx_bus import VM, VA\n",
    "net = pp.networks.case118()\n",
    "pp.rundcpp(net)\n",
    "net.res_line[\"from_bus\"] = net.line.from_bus\n",
    "net.res_line[\"to_bus\"] = net.line.to_bus\n",
    "net.res_trafo[\"hv_bus\"] = net.trafo.hv_bus\n",
    "net.res_trafo[\"lv_bus\"] = net.trafo.lv_bus\n",
    "ppc = net._ppc\n",
    "bus = ppc[\"bus\"]\n",
    "Vm  = bus[:, VM]\n",
    "Va  = bus[:, VA]\n",
    "V = np.exp(1j * Va * np.pi / 180)"
   ]
  },
  {
   "cell_type": "code",
   "execution_count": 18,
   "metadata": {},
   "outputs": [
    {
     "data": {
      "text/plain": [
       "array([0.955, 1.   , 1.   , 0.998, 1.   , 0.99 , 1.   , 1.015, 1.   ,\n",
       "       1.05 , 1.   , 0.99 , 1.   , 1.   , 0.97 , 1.   , 1.   , 0.973,\n",
       "       0.962, 1.   , 1.   , 1.   , 1.   , 0.992, 1.05 , 1.015, 0.968,\n",
       "       1.   , 1.   , 1.   , 0.967, 0.963, 1.   , 0.984, 1.   , 0.98 ,\n",
       "       1.   , 1.   , 1.   , 0.97 , 1.   , 0.985, 1.   , 1.   , 1.   ,\n",
       "       1.005, 1.   , 1.   , 1.025, 1.   , 1.   , 1.   , 1.   , 0.955,\n",
       "       0.952, 0.954, 1.   , 1.   , 0.985, 1.   , 0.995, 0.998, 1.   ,\n",
       "       1.   , 1.005, 1.05 , 1.   , 1.   , 1.035, 0.984, 1.   , 0.98 ,\n",
       "       0.991, 0.958, 1.   , 0.943, 1.006, 1.   , 1.   , 1.04 , 1.   ,\n",
       "       1.   , 1.   , 1.   , 0.985, 1.   , 1.015, 1.   , 1.005, 0.985,\n",
       "       0.98 , 0.99 , 1.   , 1.   , 1.   , 1.   , 1.   , 1.   , 1.01 ,\n",
       "       1.017, 1.   , 1.   , 1.01 , 0.971, 0.965, 1.   , 0.952, 1.   ,\n",
       "       1.   , 0.973, 0.98 , 0.975, 0.993, 1.   , 1.   , 1.005, 1.   ,\n",
       "       1.   ])"
      ]
     },
     "execution_count": 18,
     "metadata": {},
     "output_type": "execute_result"
    }
   ],
   "source": [
    "Vm"
   ]
  },
  {
   "cell_type": "code",
   "execution_count": 19,
   "metadata": {},
   "outputs": [],
   "source": [
    "from pandapower.pypower.makeBdc import makeBdc"
   ]
  },
  {
   "cell_type": "code",
   "execution_count": 20,
   "metadata": {},
   "outputs": [],
   "source": [
    "Vf_base_kV = Base_kv[edge_index[:, 0]]"
   ]
  },
  {
   "cell_type": "code",
   "execution_count": 21,
   "metadata": {},
   "outputs": [],
   "source": [
    "Bbus, Bf, Pbusinj, Pfinj, Cft = makeBdc(bus, branch)\n",
    "Bf = np.real(Bf)\n",
    "Pfinj = np.real(Pfinj)"
   ]
  },
  {
   "cell_type": "code",
   "execution_count": null,
   "metadata": {},
   "outputs": [],
   "source": []
  },
  {
   "cell_type": "code",
   "execution_count": 26,
   "metadata": {},
   "outputs": [],
   "source": [
    "import numpy as np\n",
    "\n",
    "def compute_branch_currents_kA_dc(sn_mva, edge_index, Va,Vm, Base_kv, Bf, Pfinj):\n",
    "    \"\"\"\n",
    "    Computes from-end and to-end branch currents in kA using DC approximation\n",
    "\n",
    "    Parameters:\n",
    "    - sn_mva: float, system base power in MVA\n",
    "    - edge_index: np.ndarray of shape (nl, 2), with [from_bus, to_bus] per branch\n",
    "    - Va: np.ndarray of shape (nb,), bus voltage angles in radians (DC power flow)\n",
    "    - Vm: np.ndarray of shape (nb,), bus voltage magnitudes in per-unit (DC power flow)\n",
    "    - Base_kv: np.ndarray of shape (nb,), base voltage in kV\n",
    "    - Bf: np.ndarray of shape (nl, nb), branch susceptance matrix\n",
    "    - Pfinj: np.ndarray of shape (nl,), power injection correction term in MW\n",
    "\n",
    "    Returns:\n",
    "    - If_kA: np.ndarray of shape (nl,), from-end current magnitudes in kA\n",
    "    - It_kA: np.ndarray of shape (nl,), to-end current magnitudes in kA\n",
    "    \"\"\"\n",
    "\n",
    "    # Extract from-bus and to-bus indices for each branch\n",
    "    f = edge_index[:, 0]\n",
    "    t = edge_index[:, 1]\n",
    "\n",
    "    # Get base voltages for the from and to buses (for kA conversion)\n",
    "    Vf_base_kV = Base_kv[f]\n",
    "    Vt_base_kV = Base_kv[t]\n",
    "\n",
    "    Vm_f = Vm[f]\n",
    "    Vm_t = Vm[t]\n",
    "\n",
    "    Va = Va+20\n",
    "    print(Va)\n",
    "\n",
    "    # Compute active power flow (MW) using DC approximation\n",
    "    Pf = Bf @ np.deg2rad(Va) + Pfinj  # shape: (nl,)\n",
    "\n",
    "    # Compute current magnitudes in kA: I = P / (sqrt(3) * V)\n",
    "    sqrt3 = np.sqrt(3)\n",
    "    If_kA = sn_mva * np.abs(Pf) / (Vf_base_kV * sqrt3 * Vm_f)\n",
    "    It_kA = sn_mva * np.abs(Pf) / (Vt_base_kV * sqrt3 * Vm_t)\n",
    "\n",
    "    return If_kA, It_kA\n",
    "\n",
    "\n",
    "\n",
    "\n",
    "\n",
    "\n",
    "\n",
    "def check_branch_currents(net, edge_index, If_kA, It_kA, decimals=6):\n",
    "    \"\"\"\n",
    "    Compares calculated branch currents and loading with pandapower results.\n",
    "\n",
    "    Parameters:\n",
    "    - net: pandapower network\n",
    "    - edge_index: np.ndarray of shape (n_edges, 2), from and to bus indices\n",
    "    - If_kA: np.ndarray of calculated from-end branch currents\n",
    "    - It_kA: np.ndarray of calculated to-end branch currents\n",
    "    - decimals: int, number of decimal places to round to\n",
    "    \"\"\"\n",
    "    \n",
    "    # create sets of all (from_bus, to_bus, I_from_kA, I_to_kA) for lines\n",
    "    set_of_lines = set((line.from_bus, line.to_bus, np.round(line.i_from_ka, decimals), np.round(line.i_to_ka, decimals)) for line in net.res_line.itertuples())\n",
    "    # add trafos to the set\n",
    "    set_of_lines.update((trafo.hv_bus, trafo.lv_bus, np.round(trafo.i_hv_ka, decimals), np.round(trafo.i_lv_ka, decimals)) for trafo in net.res_trafo.itertuples())\n",
    "    set_of_lines_computed = set((edge_index[line_index, 0], edge_index[line_index, 1], np.round(If_kA[line_index], decimals), np.round(It_kA[line_index], decimals)) for line_index in range(edge_index.shape[0]))\n",
    "    # assert that the two sets are equal\n",
    "    assert set_of_lines == set_of_lines_computed, \"Lines do not match\"\n",
    "\n"
   ]
  },
  {
   "cell_type": "code",
   "execution_count": 27,
   "metadata": {},
   "outputs": [
    {
     "name": "stdout",
     "output_type": "stream",
     "text": [
      "[35.70651105 36.37998375 36.65963672 40.45812268 40.93269168 38.23548065\n",
      " 37.81626607 46.01883142 53.88267716 62.18483561 37.90396079 37.50114221\n",
      " 36.37800004 36.69539344 36.03720599 37.06105755 38.69044934 36.33956531\n",
      " 35.73935303 36.46021843 37.85890204 40.23500357 45.04085332 44.44442974\n",
      " 52.80897479 54.67524704 39.79503385 38.18096135 37.31927073 43.57971488\n",
      " 37.4719686  39.19019544 35.24617616 35.71155244 35.25229584 35.24767642\n",
      " 36.2145123  41.0875886  32.76112152 31.726009   31.19983067 32.60314963\n",
      " 35.29036039 37.20635431 38.73579828 41.36191668 43.41659493 42.93906613\n",
      " 43.93916116 41.74418914 38.99457833 38.05060279 37.11198763 38.01933382\n",
      " 37.74250719 37.92361262 39.13813366 38.25418397 42.09888185 45.72029548\n",
      " 46.59021217 46.0135695  45.32520223 47.06652369 50.24083187 50.53806005\n",
      " 47.56436541 49.68741285 51.         44.28461295 44.07063183 43.60445154\n",
      " 43.91455812 43.05795856 44.26334681 43.16557957 48.65992361 48.35834948\n",
      " 48.75752149 51.48234383 50.34741398 49.52531348 50.7361518  53.1074598\n",
      " 54.66297388 53.46491913 53.93916858 57.87269616 62.07134875 55.88630784\n",
      " 55.75726691 56.28972943 53.31184164 51.24459255 50.09031338 49.95180931\n",
      " 50.30591666 50.04771622 49.84625313 51.15697494 52.3825959  54.88207824\n",
      " 47.73252249 44.83991265 43.80211285 43.53246471 41.04600687 42.82563211\n",
      " 42.45859685 41.83675781 43.39405709 39.34324548 38.66486673 38.88922885\n",
      " 38.88575429 49.26051509 35.89686038 43.26552236]\n"
     ]
    }
   ],
   "source": [
    "If_ka, It_ka = compute_branch_currents_kA_dc(net.sn_mva, edge_index, Va, Vm,Base_kv, Bf, Pfinj)\n",
    "check_branch_currents(net, edge_index, If_ka, It_ka)"
   ]
  }
 ],
 "metadata": {
  "kernelspec": {
   "display_name": "venv",
   "language": "python",
   "name": "python3"
  },
  "language_info": {
   "codemirror_mode": {
    "name": "ipython",
    "version": 3
   },
   "file_extension": ".py",
   "mimetype": "text/x-python",
   "name": "python",
   "nbconvert_exporter": "python",
   "pygments_lexer": "ipython3",
   "version": "3.9.6"
  }
 },
 "nbformat": 4,
 "nbformat_minor": 2
}
