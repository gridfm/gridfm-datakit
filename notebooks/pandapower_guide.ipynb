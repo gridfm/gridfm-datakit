{
 "cells": [
  {
   "cell_type": "code",
   "execution_count": 60,
   "metadata": {},
   "outputs": [],
   "source": [
    "import numpy as np\n",
    "import pandas as pd\n",
    "import os\n",
    "import string\n",
    "import scipy.io as spio\n",
    "import pandapower as pp\n",
    "from pandapower.plotting.plotly import simple_plotly\n",
    "from pandapower.plotting.plotly import vlevel_plotly\n",
    "import pathlib\n",
    "from importlib import resources\n",
    "\n",
    "cwd = pathlib.Path.cwd()\n",
    "import plotly.express as px\n",
    "\n",
    "np.set_printoptions(linewidth=100)\n",
    "from GridDataGen.utils.io import *\n",
    "from GridDataGen.utils.process_network import *\n",
    "from GridDataGen.utils.config import *"
   ]
  },
  {
   "cell_type": "markdown",
   "metadata": {},
   "source": [
    "# Resources\n",
    "- OPF: Optimal Power Flow. **A good introduction is provided here**: https://invenia.github.io/blog/2021/06/18/opf-intro/\n",
    "- PF: Power Flow. **A good introduction is provided here**: https://invenia.github.io/blog/2020/12/04/pf-intro/\n",
    "- pandapower documentation: https://pandapower.readthedocs.io/en/v2.0.0/index.html\n",
    "\n",
    "\n"
   ]
  },
  {
   "cell_type": "markdown",
   "metadata": {},
   "source": [
    "# Nomenclature\n",
    "- This is not best practice, but I often use the words \"demand\", \"load\", and \"consumption\" interchangeably to mean the amount of electrical power required.\n",
    "- I sometimes refer to electrical \"buses\" as \"nodes\""
   ]
  },
  {
   "cell_type": "markdown",
   "metadata": {},
   "source": [
    "# Loading the network"
   ]
  },
  {
   "cell_type": "markdown",
   "metadata": {},
   "source": [
    "- We first load the network in pandapower.\n",
    "- The list of available networks in pandapower is here: https://pandapower.readthedocs.io/en/v2.0.0/networks/power_system_test_cases.html#case-gb-reduced-network"
   ]
  },
  {
   "cell_type": "markdown",
   "metadata": {},
   "source": [
    "- Here, we load the 24-bus IEEE system\n",
    "- IEEE test systems, like the IEEE 24-bus system, are simplified models of power grids used to test and compare methods for PF and OPF. These systems are introduced here: https://arxiv.org/pdf/1908.02788\n",
    "\n",
    "\n",
    "\n",
    "\n",
    "\n",
    "\n"
   ]
  },
  {
   "cell_type": "code",
   "execution_count": 61,
   "metadata": {},
   "outputs": [],
   "source": [
    "grid_name = \"case24_ieee_rts\" \n",
    "net = load_net_from_pp(grid_name)\n",
    "network_preprocessing(net) # this adds names to network elements and assigns bus types\n"
   ]
  },
  {
   "cell_type": "markdown",
   "metadata": {},
   "source": [
    "- We load the demand profile which is obtained from powergraph  https://github.com/PowerGraph-Datasets/PowerGraph-Node\n",
    "- Make sure you load the right demand profile for the network you are considering. Powergraph has load profiles for IEEE118, IEEE24, IEEE39, UK, and the name of these networks is slightly different in pandapower.\n",
    "\n"
   ]
  },
  {
   "cell_type": "code",
   "execution_count": 62,
   "metadata": {},
   "outputs": [],
   "source": [
    "demand_file_grid = \"case24_ieee_rts\"\n",
    "demand_file = resources.files(f\"GridDataGen.grids.{demand_file_grid}\").joinpath(\n",
    "    \"hourlyDemandBusnew.mat\"\n",
    ")"
   ]
  },
  {
   "cell_type": "markdown",
   "metadata": {},
   "source": [
    "# Overview of different pandapower `net` dataframes"
   ]
  },
  {
   "cell_type": "markdown",
   "metadata": {},
   "source": [
    "- pandapower stores the network data in different dataframes. We will take a look at some of them below\n",
    "- Initially, the load and generation information is the one coming from the grid case file we have loaded"
   ]
  },
  {
   "cell_type": "markdown",
   "metadata": {},
   "source": [
    "## Load"
   ]
  },
  {
   "cell_type": "markdown",
   "metadata": {},
   "source": [
    "- `net.load` contains all load elements in the grid. Each bus can have 0 or max 1 load. The properties of the load elements include:\n",
    "    - `p_mw` is the active power demand\n",
    "    - `q_mvar` is the reactive power demand\n",
    "    - the column `bus` indicates the bus the loads are connected to"
   ]
  },
  {
   "cell_type": "code",
   "execution_count": null,
   "metadata": {},
   "outputs": [],
   "source": [
    "net.load"
   ]
  },
  {
   "cell_type": "markdown",
   "metadata": {},
   "source": [
    "## Generators (`gen`)"
   ]
  },
  {
   "cell_type": "markdown",
   "metadata": {},
   "source": [
    "Same as above, but:\n",
    "- `p_mw` is the active power generated \n",
    "- there is no reactive power info before we run OPF\n",
    "- `min_p_mw`, `max_p_mw`, `min_q_mvar`, `max_q_mvar` are bounds on the active (reactive) power generated \n",
    "- `vm_pu` is the voltage in per unit\n"
   ]
  },
  {
   "cell_type": "code",
   "execution_count": null,
   "metadata": {},
   "outputs": [],
   "source": [
    "net.gen"
   ]
  },
  {
   "cell_type": "markdown",
   "metadata": {},
   "source": [
    "## Static generators (`sgen`)"
   ]
  },
  {
   "cell_type": "markdown",
   "metadata": {},
   "source": [
    "In pandapower, static generators (`sgen`s) inject active and reactive power into the grid but don’t have a voltage control variable, meaning their output doesn’t directly regulate bus voltage like a traditional generator."
   ]
  },
  {
   "cell_type": "code",
   "execution_count": null,
   "metadata": {},
   "outputs": [],
   "source": [
    "net.sgen"
   ]
  },
  {
   "cell_type": "markdown",
   "metadata": {},
   "source": [
    "## REF/ Slack"
   ]
  },
  {
   "cell_type": "markdown",
   "metadata": {},
   "source": [
    "- The slack (aka. \"ref\") bus is a reference node in the system used to balance the active and reactive power in the grid\n",
    "- In pandapower, the `ext_grid` element is connected to the slack bus and plays this role. it has fixed voltage and phase angle, and the system can draw or get power from it to maintain balance."
   ]
  },
  {
   "cell_type": "code",
   "execution_count": null,
   "metadata": {},
   "outputs": [],
   "source": [
    "net.ext_grid"
   ]
  },
  {
   "cell_type": "markdown",
   "metadata": {},
   "source": [
    "## Shunts"
   ]
  },
  {
   "cell_type": "markdown",
   "metadata": {},
   "source": [
    "- Shunts are other elements used to balance the active and reactive power in the grid.\n",
    "- Think of them as \"controllable\" loads"
   ]
  },
  {
   "cell_type": "code",
   "execution_count": null,
   "metadata": {},
   "outputs": [],
   "source": [
    "net.shunt"
   ]
  },
  {
   "cell_type": "markdown",
   "metadata": {},
   "source": [
    "## Lines"
   ]
  },
  {
   "cell_type": "markdown",
   "metadata": {},
   "source": [
    "Lines connect buses\n",
    "- `r_ohm_per_km` and `x_ohm_per_km`: Line resistance and reactance.\n",
    "- `max_i_ka`: max current capacity"
   ]
  },
  {
   "cell_type": "code",
   "execution_count": null,
   "metadata": {},
   "outputs": [],
   "source": [
    "net.line"
   ]
  },
  {
   "cell_type": "markdown",
   "metadata": {},
   "source": [
    "## Transformers "
   ]
  },
  {
   "cell_type": "code",
   "execution_count": null,
   "metadata": {},
   "outputs": [],
   "source": [
    "net.trafo"
   ]
  },
  {
   "cell_type": "markdown",
   "metadata": {},
   "source": [
    "## poly cost"
   ]
  },
  {
   "cell_type": "markdown",
   "metadata": {},
   "source": [
    "`net.polycost` stores the different terms of the generation cost function"
   ]
  },
  {
   "cell_type": "markdown",
   "metadata": {},
   "source": [
    "At every `gen` or `sgen` element, we have:\n",
    "$$C(p_{\\text{MW}}, q_{\\text{MVar}}) = cp_0 + cp_1 \\cdot p_{\\text{MW}} + cp_2 \\cdot p_{\\text{MW}}^2 + cq_0 + cq_1 \\cdot q_{\\text{MVar}} + cq_2 \\cdot q_{\\text{MVar}}^2$$\n",
    "\n"
   ]
  },
  {
   "cell_type": "code",
   "execution_count": null,
   "metadata": {},
   "outputs": [],
   "source": [
    "net.poly_cost"
   ]
  },
  {
   "cell_type": "markdown",
   "metadata": {},
   "source": [
    "## Bus types"
   ]
  },
  {
   "cell_type": "markdown",
   "metadata": {},
   "source": [
    "- **PV** Buses: connected to `gen`s, `sgen`s, and sometimes also `load`s\n",
    "- **PQ** Buses: connected to `load`s (or nothing) and/or `shunt`s. Can **not** be connected to generation elements like `gen`, `sgen` or `ext_grid`\n",
    "- Slack/ REF Bus: connected to `ext_grid`. Can also be connected to any other element  \n"
   ]
  },
  {
   "cell_type": "code",
   "execution_count": null,
   "metadata": {},
   "outputs": [],
   "source": [
    "net.bus"
   ]
  },
  {
   "cell_type": "markdown",
   "metadata": {},
   "source": [
    "Note that there are PQ buses which dont have any load (nor generator element, by definition)"
   ]
  },
  {
   "cell_type": "code",
   "execution_count": null,
   "metadata": {},
   "outputs": [],
   "source": [
    "(net.bus[\"type\"] == PQ).sum()  # number of PQ buses"
   ]
  },
  {
   "cell_type": "code",
   "execution_count": null,
   "metadata": {},
   "outputs": [],
   "source": [
    "net.load[net.load.type == PQ].bus.nunique()  # number of PQ buses with loads"
   ]
  },
  {
   "cell_type": "markdown",
   "metadata": {},
   "source": [
    "## Viz"
   ]
  },
  {
   "cell_type": "markdown",
   "metadata": {},
   "source": [
    "I keep this here but I am not sure it is useful..."
   ]
  },
  {
   "cell_type": "code",
   "execution_count": null,
   "metadata": {},
   "outputs": [],
   "source": [
    "# Quick Visualization of the loaded Grid (Matplotlib Version)\n",
    "pp.plotting.simple_plot(net)"
   ]
  },
  {
   "cell_type": "markdown",
   "metadata": {},
   "source": [
    "# Loading the load scenarios"
   ]
  },
  {
   "cell_type": "markdown",
   "metadata": {},
   "source": [
    "We first get the load scenarios from the scenario file, the path to which we defined earlier:"
   ]
  },
  {
   "cell_type": "code",
   "execution_count": 75,
   "metadata": {},
   "outputs": [],
   "source": [
    "scenarios = load_scenario_from_file(net, demand_file) "
   ]
  },
  {
   "cell_type": "markdown",
   "metadata": {},
   "source": [
    "Note that these load scenarios show many limitations. Among others, the load fluctuations over time is the same accross all buses... -> the load variations are not independent accross buses ;)"
   ]
  },
  {
   "cell_type": "code",
   "execution_count": null,
   "metadata": {},
   "outputs": [],
   "source": [
    "df = pd.DataFrame(scenarios[:5, :].T, columns=[f\"Bus {i+1}\" for i in range(5)])\n",
    "\n",
    "# Create the line plot with a legend\n",
    "fig = px.line(df, title=\"Time Series of the Load for the First 5 Buses\")\n",
    "fig.update_layout(\n",
    "    xaxis_title=\"Time Steps\",\n",
    "    yaxis_title=\"Load\",\n",
    "    legend_title=\"Buses\"\n",
    ")\n",
    "fig.show()"
   ]
  },
  {
   "cell_type": "markdown",
   "metadata": {},
   "source": [
    "\n",
    "- We now replace the default active power load from the case file by the active power load of the **first load scenario** (in this notebook, we will only solve one OPF/PF problem, i.e. look at one time-snapshot of the grid). \n",
    "- Note that the **reactive power is not changed** (as it is the case in the approach used by powergraph) -> we should improve this in the future\n"
   ]
  },
  {
   "cell_type": "code",
   "execution_count": 77,
   "metadata": {},
   "outputs": [],
   "source": [
    "#  set demand at each load element according to scenario\n",
    "net.load.p_mw = scenarios[:, 0][net.load.bus]"
   ]
  },
  {
   "cell_type": "markdown",
   "metadata": {},
   "source": [
    "# OPF"
   ]
  },
  {
   "cell_type": "markdown",
   "metadata": {},
   "source": [
    "- OPF is an optimization problem solved to determine the least cost generation dispatch (active power generation and voltage magnitude at each PV bus) to satisfy the active and reactive power load that we specified.\n",
    "- Again, the active power load is now the one from the scenario file, while the reactive power load is the default one from the case file\n"
   ]
  },
  {
   "cell_type": "markdown",
   "metadata": {},
   "source": [
    "## Solving OPF"
   ]
  },
  {
   "cell_type": "markdown",
   "metadata": {},
   "source": [
    "- `net` already contains all the network parameters (e.g. line reactance, generator max capacity, ...) and the load information. Solving OPF can thus simply be done by calling `runopp()` from pandapower."
   ]
  },
  {
   "cell_type": "code",
   "execution_count": null,
   "metadata": {},
   "outputs": [],
   "source": [
    "pp.runopp(net, numba=True)\n",
    "net.res_gen.iloc[0]"
   ]
  },
  {
   "cell_type": "code",
   "execution_count": null,
   "metadata": {},
   "outputs": [],
   "source": [
    "net.gen.loc[0,\"in_service\"] = False\n",
    "pp.runopp(net, numba=True)\n",
    "net.res_gen.iloc[0]"
   ]
  },
  {
   "cell_type": "markdown",
   "metadata": {},
   "source": [
    "after running opf, the `net.res_*` dataframes (e.g. `net.res_gen`) are added to the `net` object:"
   ]
  },
  {
   "cell_type": "code",
   "execution_count": null,
   "metadata": {},
   "outputs": [],
   "source": []
  },
  {
   "cell_type": "code",
   "execution_count": null,
   "metadata": {},
   "outputs": [],
   "source": [
    "net"
   ]
  },
  {
   "cell_type": "markdown",
   "metadata": {},
   "source": [
    "We add the bus indices and types to the result dataframe (we will need them later)"
   ]
  },
  {
   "cell_type": "code",
   "execution_count": 25,
   "metadata": {},
   "outputs": [],
   "source": [
    "# add bus index and type to dataframe of opf results\n",
    "net.res_gen[\"bus\"] = net.gen.bus\n",
    "net.res_gen[\"type\"] = net.gen.type\n",
    "net.res_load[\"bus\"] = net.load.bus\n",
    "net.res_load[\"type\"] = net.load.type\n",
    "net.res_sgen[\"bus\"] = net.sgen.bus\n",
    "net.res_sgen[\"type\"] = net.sgen.type\n",
    "net.res_shunt[\"bus\"] = net.shunt.bus\n",
    "net.res_ext_grid[\"bus\"] = net.ext_grid.bus\n",
    "net.res_bus[\"type\"] = net.bus[\"type\"]"
   ]
  },
  {
   "cell_type": "markdown",
   "metadata": {},
   "source": [
    "Note that the load stays the same as before, it is not modified during OPF, only the generation dispatch is changed"
   ]
  },
  {
   "cell_type": "code",
   "execution_count": 26,
   "metadata": {},
   "outputs": [],
   "source": [
    "# assert that the load doesnt get changed\n",
    "assert net.res_load.p_mw.equals(net.load.p_mw)\n",
    "assert net.res_load.q_mvar.equals(net.load.q_mvar)\n"
   ]
  },
  {
   "cell_type": "markdown",
   "metadata": {},
   "source": [
    "## Res gen"
   ]
  },
  {
   "cell_type": "markdown",
   "metadata": {},
   "source": [
    "- `res_gen` now contains the optimal active and reactive power generation, as well as the voltage mag and angle"
   ]
  },
  {
   "cell_type": "code",
   "execution_count": null,
   "metadata": {},
   "outputs": [],
   "source": [
    "net.res_gen"
   ]
  },
  {
   "cell_type": "markdown",
   "metadata": {},
   "source": [
    "we can check if the constraints on the active and reactive power are respected:"
   ]
  },
  {
   "cell_type": "code",
   "execution_count": 28,
   "metadata": {},
   "outputs": [],
   "source": [
    "# check active power is less than the upper bound\n",
    "assert (\n",
    "    net.gen.max_p_mw - net.res_gen.p_mw > -1e-4\n",
    ").all(), \"upper bound on active power is violated\"\n",
    "# check active power is more than the lower bound\n",
    "assert (\n",
    "    net.res_gen.p_mw - net.gen.min_p_mw\n",
    ").all(), \"lower bound on active power is violated\"\n",
    "\n",
    "# same for reactive power\n",
    "assert (\n",
    "    net.gen.max_q_mvar - net.res_gen.q_mvar > -1e-4\n",
    ").all(), \"upper bound on reactive power is violated\"\n",
    "\n",
    "assert  (\n",
    "    net.res_gen.q_mvar - net.gen.min_q_mvar\n",
    ").all(),  \"lower bound on reactive power is violated\""
   ]
  },
  {
   "cell_type": "markdown",
   "metadata": {},
   "source": [
    "## Res sgen"
   ]
  },
  {
   "cell_type": "markdown",
   "metadata": {},
   "source": [
    "- `res_sgen` now contains the optimal active and reactive power generation"
   ]
  },
  {
   "cell_type": "markdown",
   "metadata": {},
   "source": [
    "## Checking bounds on active and reactive power"
   ]
  },
  {
   "cell_type": "code",
   "execution_count": 29,
   "metadata": {},
   "outputs": [],
   "source": [
    "if len(net.sgen) != 0:\n",
    "    assert (\n",
    "        net.sgen.max_p_mw - net.res_sgen.p_mw > -1e-4\n",
    "    ).all(), \"upper bound on active power is violated\"\n",
    "    assert (\n",
    "        net.res_sgen.p_mw - net.sgen.min_p_mw > -1e-4\n",
    "    ).all(), \"lower bound on active power is violated\"\n",
    "\n",
    "    assert (\n",
    "        net.sgen.max_q_mvar - net.res_sgen.q_mvar > -1e-4\n",
    "    ).all(), \"upper bound on reactive power is violated\"\n",
    "    assert (\n",
    "        net.res_sgen.q_mvar - net.sgen.min_q_mvar > -1e-4\n",
    "    ).all(), \"lower bound on reactive power is violated\""
   ]
  },
  {
   "cell_type": "markdown",
   "metadata": {},
   "source": [
    "## Slack"
   ]
  },
  {
   "cell_type": "markdown",
   "metadata": {},
   "source": [
    "- `ext_grid` now has active and reactive power: (positive means supplying power)"
   ]
  },
  {
   "cell_type": "code",
   "execution_count": null,
   "metadata": {},
   "outputs": [],
   "source": [
    "net.res_ext_grid"
   ]
  },
  {
   "cell_type": "markdown",
   "metadata": {},
   "source": [
    "## Checking power balance"
   ]
  },
  {
   "cell_type": "markdown",
   "metadata": {},
   "source": [
    "We can check that some other basic constraints are satisfied. For example, the total power generated should be equal to the total power consumed + loss"
   ]
  },
  {
   "cell_type": "markdown",
   "metadata": {},
   "source": [
    "- We sum the active and reactive power of all generator elements (gen, static gen and slack) connected to each bus:"
   ]
  },
  {
   "cell_type": "code",
   "execution_count": null,
   "metadata": {},
   "outputs": [],
   "source": [
    "all_gens = (\n",
    "    pd.concat([net.res_gen, net.res_sgen, net.res_ext_grid])[[\"p_mw\", \"q_mvar\", \"bus\"]]\n",
    "    .groupby(\"bus\")\n",
    "    .sum()\n",
    ")\n",
    "all_gens"
   ]
  },
  {
   "cell_type": "markdown",
   "metadata": {},
   "source": [
    "- total generation across all buses:"
   ]
  },
  {
   "cell_type": "code",
   "execution_count": null,
   "metadata": {},
   "outputs": [],
   "source": [
    "all_gens.sum()"
   ]
  },
  {
   "cell_type": "markdown",
   "metadata": {},
   "source": [
    "- We can now sum the active and reactive power of all load elements (loads, shunts and transformers) + losses (line and transformer):"
   ]
  },
  {
   "cell_type": "code",
   "execution_count": null,
   "metadata": {},
   "outputs": [],
   "source": [
    "all_consumption_p_mw = (\n",
    "    net.res_load.p_mw.sum()\n",
    "    + net.res_line.pl_mw.sum()\n",
    "    + net.res_trafo.pl_mw.sum()\n",
    "    + net.res_shunt.p_mw.sum()\n",
    ")  # active\n",
    "all_consumption_p_mw\n",
    "\n",
    "all_consumption_q_mvar = (\n",
    "    net.res_load.q_mvar.sum()\n",
    "    + net.res_line.ql_mvar.sum()\n",
    "    + net.res_trafo.ql_mvar.sum()\n",
    "    + net.res_shunt.q_mvar.sum()\n",
    ")  # reactive\n",
    "all_consumption_q_mvar\n",
    "\n",
    "\n",
    "\n",
    "print(f\"Total active consumption: {all_consumption_p_mw} MW\")\n",
    "print(f\"Total reactive consumption: {all_consumption_q_mvar} MVar\")"
   ]
  },
  {
   "cell_type": "markdown",
   "metadata": {},
   "source": [
    "- The total load + losses matches the total generation!"
   ]
  },
  {
   "cell_type": "markdown",
   "metadata": {},
   "source": [
    "## res bus"
   ]
  },
  {
   "cell_type": "markdown",
   "metadata": {},
   "source": [
    "Note that the net power demand is also available in the `res_bus` table."
   ]
  },
  {
   "cell_type": "markdown",
   "metadata": {},
   "source": [
    "To check that, we can compute the net power consumption at each bus (i.e. all loads - all geneation)"
   ]
  },
  {
   "cell_type": "code",
   "execution_count": 34,
   "metadata": {},
   "outputs": [],
   "source": [
    "all_loads = (\n",
    "    pd.concat([net.res_load, net.res_shunt])[[\"p_mw\", \"q_mvar\", \"bus\"]]\n",
    "    .groupby(\"bus\")\n",
    "    .sum()\n",
    ")  # all load\n",
    "net_consumption = (\n",
    "    pd.concat([all_loads, -all_gens])\n",
    "    .groupby(\"bus\")\n",
    "    .sum()\n",
    "    .reindex_like(net.res_bus[[\"p_mw\", \"q_mvar\"]])\n",
    "    .fillna(0)\n",
    ")  # net load = load - generation"
   ]
  },
  {
   "cell_type": "markdown",
   "metadata": {},
   "source": [
    "and check that the net power consumption is equal to the data in the `res_bus` table"
   ]
  },
  {
   "cell_type": "code",
   "execution_count": 35,
   "metadata": {},
   "outputs": [],
   "source": [
    "assert np.allclose(net.res_bus[[\"p_mw\", \"q_mvar\"]], net_consumption)"
   ]
  },
  {
   "cell_type": "markdown",
   "metadata": {},
   "source": [
    "# Power flow"
   ]
  },
  {
   "cell_type": "markdown",
   "metadata": {},
   "source": [
    "After solving OPF, we solve PF to get a \"full snapshot\" of our grid.\n",
    "When solving PF, the following variables are fixed and we solve for the rest:\n",
    "\n",
    "| **Bus Type**    | **Fixed Variables**                    | **Solved Variables**                    |\n",
    "|------------------|----------------------------------------|------------------------------------------|\n",
    "| **Slack (REF)** | `vm_pu` (voltage magnitude), `va_degree` (voltage angle) | `p_mw` (active power), `q_mvar` (reactive power) |\n",
    "| **PV** | `p_mw` (active power), `vm_pu` (voltage magnitude) | `q_mvar` (reactive power), `va_degree` (voltage angle) |\n",
    "| **PQ**    | `p_mw` (active power), `q_mvar` (reactive power) | `vm_pu` (voltage magnitude), `va_degree` (voltage angle) |\n",
    "\n"
   ]
  },
  {
   "cell_type": "markdown",
   "metadata": {},
   "source": [
    "## Setting the active power and voltage magnitude of generators based on results of OPF "
   ]
  },
  {
   "cell_type": "markdown",
   "metadata": {},
   "source": [
    "For pandapower to run PF on the OPF solutions, we need to copy OPF results of OPF from the `res_gen` and `res_sgen` tables to the `gen` and `sgen` tables.\n",
    "- Among the fixed variables (see table above), only `p_mw` and `vm_pu` at PV nodes got changed after running OPF and thus require us to copy their new values. Note that the `p_mw` and `q_mvar` at PQ nodes did not get changed during OPF (they are in fact the input of OPF), and that the slack voltage magnitude and angle at slack nodes are fixed parameters that can not change.\n",
    "- Thus, we only set the real power `p_mw` and voltage `vm_pu` at `gen` and `sgen` elements\n",
    "\n"
   ]
  },
  {
   "cell_type": "code",
   "execution_count": 36,
   "metadata": {},
   "outputs": [],
   "source": [
    "net.gen[[\"p_mw\", \"vm_pu\"]] = net.res_gen[[\"p_mw\", \"vm_pu\"]]"
   ]
  },
  {
   "cell_type": "code",
   "execution_count": 37,
   "metadata": {},
   "outputs": [],
   "source": [
    "net.sgen[\"p_mw\"] = net.res_sgen[\"p_mw\"] # note that there is no voltage info at sgens, since they do not participate in the voltage control"
   ]
  },
  {
   "cell_type": "markdown",
   "metadata": {},
   "source": [
    "- Note that there is no need to set the `shunt`s' power or the `ext_grid`'s power, as they are computed during the power flow (PF) calculation.\n",
    "- Their purpose is precisely to correct slight mismatches in power generation and demand by generating or consuming some energy.\n"
   ]
  },
  {
   "cell_type": "markdown",
   "metadata": {},
   "source": [
    "## <p style=\"color:red\"> TO DO: Adding small perturbations to the OPF results </p>\n",
    "\n",
    "\n"
   ]
  },
  {
   "cell_type": "markdown",
   "metadata": {},
   "source": [
    "Note that this is where we could add small \"perturbations\" to the `p_mw` and `vm_pu` of `gen`s and `sgen`s obtained from the OPF solutions we obtained, to generate many \"suboptimal\" generation dispatch from our single OPF solution.\n",
    "\n",
    "For now, we contiune with the OPF solution.\n",
    "\n"
   ]
  },
  {
   "cell_type": "markdown",
   "metadata": {},
   "source": [
    "## Run PF"
   ]
  },
  {
   "cell_type": "markdown",
   "metadata": {},
   "source": [
    "- We run powerflow using the `runpp` function from pandapower\n",
    "- This overwrites the res_tables with the PF results."
   ]
  },
  {
   "cell_type": "code",
   "execution_count": null,
   "metadata": {},
   "outputs": [],
   "source": [
    "pp.runpp(net)"
   ]
  },
  {
   "cell_type": "markdown",
   "metadata": {},
   "source": [
    "we can access the PF solutions using the `net.res_*` tables"
   ]
  }
 ],
 "metadata": {
  "kernelspec": {
   "display_name": ".venv",
   "language": "python",
   "name": "python3"
  },
  "language_info": {
   "codemirror_mode": {
    "name": "ipython",
    "version": 3
   },
   "file_extension": ".py",
   "mimetype": "text/x-python",
   "name": "python",
   "nbconvert_exporter": "python",
   "pygments_lexer": "ipython3",
   "version": "3.9.6"
  }
 },
 "nbformat": 4,
 "nbformat_minor": 2
}
